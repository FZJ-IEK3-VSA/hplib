{
 "cells": [
  {
   "cell_type": "code",
   "execution_count": 2,
   "metadata": {},
   "outputs": [],
   "source": [
    "import os\n",
    "import shutil"
   ]
  },
  {
   "cell_type": "code",
   "execution_count": 3,
   "metadata": {},
   "outputs": [],
   "source": [
    "try:\n",
    "    os.mkdir('zip')\n",
    "except:\n",
    "    pass\n",
    "os.chdir('zip')\n",
    "try:\n",
    "    os.mkdir('../pdf_new')\n",
    "except:\n",
    "    pass\n",
    "for folder in os.listdir(os.getcwd()):\n",
    "    if folder.endswith('.pdf'):\n",
    "        shutil.move(folder,os.getcwd()[:-3]+'pdf_new/'+folder)\n",
    "    elif folder.endswith('ipynb'):\n",
    "        continue\n",
    "    else:            \n",
    "        for file in os.listdir(os.getcwd()+'/'+folder):\n",
    "            shutil.move(os.getcwd()+'/'+folder+'/'+file,os.getcwd()[:-3]+'pdf_new/'+file)\n",
    "        os.rmdir(folder)\n",
    "os.chdir('../') \n",
    "os.rmdir('zip')"
   ]
  },
  {
   "cell_type": "code",
   "execution_count": null,
   "metadata": {},
   "outputs": [],
   "source": []
  }
 ],
 "metadata": {
  "interpreter": {
   "hash": "e520d04d4632711be843bf0db2d822013395c816ee5fe0ee7f47f8d20bb65b44"
  },
  "kernelspec": {
   "display_name": "Python 3.9.12 ('webtool')",
   "language": "python",
   "name": "python3"
  },
  "language_info": {
   "codemirror_mode": {
    "name": "ipython",
    "version": 3
   },
   "file_extension": ".py",
   "mimetype": "text/x-python",
   "name": "python",
   "nbconvert_exporter": "python",
   "pygments_lexer": "ipython3",
   "version": "3.9.12"
  },
  "orig_nbformat": 4
 },
 "nbformat": 4,
 "nbformat_minor": 2
}
