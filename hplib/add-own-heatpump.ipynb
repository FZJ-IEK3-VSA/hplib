{
 "cells": [
  {
   "cell_type": "code",
   "execution_count": 3,
   "metadata": {},
   "outputs": [],
   "source": [
    "import pandas as pd\n",
    "import hplib as hpl\n",
    "import hplib_database as db\n",
    "import warnings\n",
    "warnings.filterwarnings(\"ignore\")"
   ]
  },
  {
   "cell_type": "code",
   "execution_count": null,
   "metadata": {},
   "outputs": [],
   "source": [
    "# Add 8 rows for own heatpump in output/database_heating.csv"
   ]
  },
  {
   "cell_type": "code",
   "execution_count": null,
   "metadata": {},
   "outputs": [],
   "source": [
    "# Afterwards process\n",
    "# Reduce to climate measurement series with average climate, delete redundant entries and save to csv sub-database\n",
    "db.reduce_heating_data('database_heating.csv','average')\n",
    "# -> this creates /output/database_heating_average.csv\n",
    "db.normalize_heating_data('database_heating_average.csv')\n",
    "# -> this creates /output/database_heating_average_normalized.csv\n",
    "db.identify_subtypes('database_heating_average_normalized.csv')\n",
    "# -> this creates /output/database_heating_average_normalized_subtypes.csv\n",
    "db.calculate_heating_parameters('database_heating_average_normalized_subtypes.csv')\n",
    "# -> this creates /output/hplib_database_heating.csv\n",
    "# -> this creates /hplib/hplib_database.csv"
   ]
  },
  {
   "cell_type": "code",
   "execution_count": 6,
   "metadata": {},
   "outputs": [
    {
     "data": {
      "text/html": [
       "<div>\n",
       "<style scoped>\n",
       "    .dataframe tbody tr th:only-of-type {\n",
       "        vertical-align: middle;\n",
       "    }\n",
       "\n",
       "    .dataframe tbody tr th {\n",
       "        vertical-align: top;\n",
       "    }\n",
       "\n",
       "    .dataframe thead th {\n",
       "        text-align: right;\n",
       "    }\n",
       "</style>\n",
       "<table border=\"1\" class=\"dataframe\">\n",
       "  <thead>\n",
       "    <tr style=\"text-align: right;\">\n",
       "      <th></th>\n",
       "      <th>Manufacturer</th>\n",
       "      <th>Model</th>\n",
       "      <th>P_th_h_ref [W]</th>\n",
       "      <th>P_el_h_ref [W]</th>\n",
       "      <th>COP_ref</th>\n",
       "      <th>Group</th>\n",
       "      <th>p1_P_th [1/°C]</th>\n",
       "      <th>p2_P_th [1/°C]</th>\n",
       "      <th>p3_P_th [-]</th>\n",
       "      <th>p4_P_th [1/°C]</th>\n",
       "      <th>p1_P_el_h [1/°C]</th>\n",
       "      <th>p2_P_el_h [1/°C]</th>\n",
       "      <th>p3_P_el_h [-]</th>\n",
       "      <th>p4_P_el_h [1/°C]</th>\n",
       "      <th>p1_COP [-]</th>\n",
       "      <th>p2_COP [-]</th>\n",
       "      <th>p3_COP [-]</th>\n",
       "      <th>p4_COP [-]</th>\n",
       "    </tr>\n",
       "  </thead>\n",
       "  <tbody>\n",
       "    <tr>\n",
       "      <th>0</th>\n",
       "      <td>Example-Manufacturer</td>\n",
       "      <td>Example-Model</td>\n",
       "      <td>4500</td>\n",
       "      <td>1810</td>\n",
       "      <td>2.486188</td>\n",
       "      <td>1.0</td>\n",
       "      <td>-213.676356</td>\n",
       "      <td>0.01171</td>\n",
       "      <td>0.377844</td>\n",
       "      <td>213.651329</td>\n",
       "      <td>70.622273</td>\n",
       "      <td>0.02074</td>\n",
       "      <td>-0.155403</td>\n",
       "      <td>-70.64454</td>\n",
       "      <td>212.835788</td>\n",
       "      <td>-0.07804</td>\n",
       "      <td>7.072106</td>\n",
       "      <td>-212.702424</td>\n",
       "    </tr>\n",
       "  </tbody>\n",
       "</table>\n",
       "</div>"
      ],
      "text/plain": [
       "           Manufacturer          Model  P_th_h_ref [W]  P_el_h_ref [W]  \\\n",
       "0  Example-Manufacturer  Example-Model            4500            1810   \n",
       "\n",
       "    COP_ref  Group  p1_P_th [1/°C]  p2_P_th [1/°C]  p3_P_th [-]  \\\n",
       "0  2.486188    1.0     -213.676356         0.01171     0.377844   \n",
       "\n",
       "   p4_P_th [1/°C]  p1_P_el_h [1/°C]  p2_P_el_h [1/°C]  p3_P_el_h [-]  \\\n",
       "0      213.651329         70.622273           0.02074      -0.155403   \n",
       "\n",
       "   p4_P_el_h [1/°C]  p1_COP [-]  p2_COP [-]  p3_COP [-]  p4_COP [-]  \n",
       "0         -70.64454  212.835788    -0.07804    7.072106 -212.702424  "
      ]
     },
     "execution_count": 6,
     "metadata": {},
     "output_type": "execute_result"
    }
   ],
   "source": [
    "parameters = hpl.get_parameters('Example-Model')\n",
    "parameters"
   ]
  },
  {
   "cell_type": "code",
   "execution_count": 11,
   "metadata": {},
   "outputs": [
    {
     "name": "stdout",
     "output_type": "stream",
     "text": [
      "The seasonal performance factor (SPF) for one year is = 4.4\n"
     ]
    }
   ],
   "source": [
    "# Read input file with temperatures\n",
    "df = pd.read_csv('../input/TestYear.csv')\n",
    "df['T_amb'] = df['T_in_primary'] # air/water heat pump -> T_amb = T_in_primary\n",
    "# Simulate with values\n",
    "# Load parameters\n",
    "parameters = hpl.get_parameters(model='Example-Model')\n",
    "# Create heat pump object with parameters\n",
    "heatpump = hpl.HeatPump(parameters)\n",
    "# whereas mode = 1 is for heating and mode = 2 is for cooling\n",
    "results = heatpump.simulate(t_in_primary=df['T_in_primary'].values, t_in_secondary=df['T_in_secondary'].values, t_amb=df['T_amb'].values, mode=1)\n",
    "# Plot / Print some results\n",
    "# example for distribution of COPs\n",
    "results=pd.DataFrame.from_dict(results)\n",
    "# Calclulate seasonal performance factor (SPF)\n",
    "SPF = results['P_th'].mean() / results['P_el'].mean() \n",
    "print('The seasonal performance factor (SPF) for one year is = '+str(round(SPF,1)))"
   ]
  },
  {
   "cell_type": "code",
   "execution_count": null,
   "metadata": {},
   "outputs": [],
   "source": []
  }
 ],
 "metadata": {
  "kernelspec": {
   "display_name": "hisim-webtool",
   "language": "python",
   "name": "python3"
  },
  "language_info": {
   "codemirror_mode": {
    "name": "ipython",
    "version": 3
   },
   "file_extension": ".py",
   "mimetype": "text/x-python",
   "name": "python",
   "nbconvert_exporter": "python",
   "pygments_lexer": "ipython3",
   "version": "3.10.9"
  },
  "orig_nbformat": 4,
  "vscode": {
   "interpreter": {
    "hash": "69fff2ef8886a37eaa62b07fd44e1b48fe3904c9c820d4756fc19335f1077042"
   }
  }
 },
 "nbformat": 4,
 "nbformat_minor": 2
}
