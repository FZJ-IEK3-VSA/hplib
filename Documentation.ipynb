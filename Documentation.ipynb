{
 "cells": [
  {
   "cell_type": "markdown",
   "source": [
    "# Documentation for the creation and usage of the heatpump library (hplib)\r\n",
    "\r\n",
    "\r\n"
   ],
   "metadata": {}
  },
  {
   "cell_type": "code",
   "execution_count": 1,
   "source": [
    "import hplib as hpl\r\n",
    "import database as db"
   ],
   "outputs": [],
   "metadata": {}
  },
  {
   "cell_type": "markdown",
   "source": [
    "## Database Preparation\n",
    "1. we downloaded all manufacturer data from https://keymark.eu/en/products/heatpumps/certified-products\n",
    "2. then we unzipped the files and used the bash-skript to convert pdf into txt\n",
    "3. afterwards we used this following functions to create and extent the heatpump keymark database"
   ],
   "metadata": {}
  },
  {
   "cell_type": "code",
   "execution_count": 2,
   "source": [
    "# Import keymark data and save to csv database\r\n",
    "db.ImportKeymarkData()\r\n",
    "# -> this creates /output/database_keymark.csv)"
   ],
   "outputs": [],
   "metadata": {}
  },
  {
   "cell_type": "code",
   "execution_count": null,
   "source": [
    "# Reduce to climate measurement series with average climate, delete redundant entries and save to csv sub-database\r\n",
    "db.ReduceKeymarkData('database_keymark.csv','average')\r\n",
    "# -> this creates /output/database_keymark_average.csv)"
   ],
   "outputs": [],
   "metadata": {}
  },
  {
   "cell_type": "code",
   "execution_count": null,
   "source": [
    "# Normalize electrical and thermal power from the keymark database to values from setpoint T_in = -7 °C and T_out = 52 °C\r\n",
    "db.NormalizeKeymarkData('database_keymark_average.csv')\r\n",
    "# -> this creates /output/database_keymark_average_normalized.csv)"
   ],
   "outputs": [],
   "metadata": {}
  },
  {
   "cell_type": "code",
   "execution_count": null,
   "source": [
    "# Identify subtypes like On-Off, Inverter and 2-stages Heatpump and assign group depending on its type and subtype\r\n",
    "db.IdentifySubtypes('database_keymark_average_normalized.csv')\r\n",
    "# -> this creates /output/database_keymark_average_normalized_subtypes.csv)"
   ],
   "outputs": [],
   "metadata": {}
  },
  {
   "cell_type": "code",
   "execution_count": 9,
   "source": [
    "#Calculate parameters p1-p3 for P_th, P_el and COP\r\n",
    "db.CalculateFunctionParameters('database_keymark_average_normalized_subtypes.csv')\r\n",
    "# -> this creates the final hplib-database.csv"
   ],
   "outputs": [],
   "metadata": {}
  },
  {
   "cell_type": "code",
   "execution_count": 10,
   "source": [
    "#Calculate generic heatpump models for each group\r\n",
    "db.addGeneric()\r\n",
    "# -> this overwrites the hplib-database.csv"
   ],
   "outputs": [],
   "metadata": {}
  },
  {
   "cell_type": "markdown",
   "source": [
    "## Usage for simulation"
   ],
   "metadata": {}
  },
  {
   "cell_type": "code",
   "execution_count": 2,
   "source": [
    "# Define a specific heatpump model and get parameters\r\n",
    "parameters = hpl.getParameters('Generic',1,10000)# example: hpl.getParameters('LW 101) or for generic: hpl.getParameters('Generic',1,1000)\r\n",
    "#if generic give Group and Thermal Power at -7/52\r\n",
    "parameters"
   ],
   "outputs": [
    {
     "output_type": "execute_result",
     "data": {
      "text/plain": [
       "     Model  P_th_ref [W]  P_el_ref [W]  Group  p1_P_th [1/°C]  p2_P_th [1/°C]  \\\n",
       "0  Generic         10000   7837.066394    1.0       -0.030728       -0.003468   \n",
       "\n",
       "   p3_P_th [-]  p1_P_el [1/°C]  p2_P_el [1/°C]  p3_P_el [-]  p1_COP [-]  \\\n",
       "0     0.908301       -0.030655        0.009683     0.179736    0.149456   \n",
       "\n",
       "   p2_COP [-]  p3_COP [-]  \n",
       "0   -0.091262    7.212956  "
      ],
      "text/html": [
       "<div>\n",
       "<style scoped>\n",
       "    .dataframe tbody tr th:only-of-type {\n",
       "        vertical-align: middle;\n",
       "    }\n",
       "\n",
       "    .dataframe tbody tr th {\n",
       "        vertical-align: top;\n",
       "    }\n",
       "\n",
       "    .dataframe thead th {\n",
       "        text-align: right;\n",
       "    }\n",
       "</style>\n",
       "<table border=\"1\" class=\"dataframe\">\n",
       "  <thead>\n",
       "    <tr style=\"text-align: right;\">\n",
       "      <th></th>\n",
       "      <th>Model</th>\n",
       "      <th>P_th_ref [W]</th>\n",
       "      <th>P_el_ref [W]</th>\n",
       "      <th>Group</th>\n",
       "      <th>p1_P_th [1/°C]</th>\n",
       "      <th>p2_P_th [1/°C]</th>\n",
       "      <th>p3_P_th [-]</th>\n",
       "      <th>p1_P_el [1/°C]</th>\n",
       "      <th>p2_P_el [1/°C]</th>\n",
       "      <th>p3_P_el [-]</th>\n",
       "      <th>p1_COP [-]</th>\n",
       "      <th>p2_COP [-]</th>\n",
       "      <th>p3_COP [-]</th>\n",
       "    </tr>\n",
       "  </thead>\n",
       "  <tbody>\n",
       "    <tr>\n",
       "      <th>0</th>\n",
       "      <td>Generic</td>\n",
       "      <td>10000</td>\n",
       "      <td>7837.066394</td>\n",
       "      <td>1.0</td>\n",
       "      <td>-0.030728</td>\n",
       "      <td>-0.003468</td>\n",
       "      <td>0.908301</td>\n",
       "      <td>-0.030655</td>\n",
       "      <td>0.009683</td>\n",
       "      <td>0.179736</td>\n",
       "      <td>0.149456</td>\n",
       "      <td>-0.091262</td>\n",
       "      <td>7.212956</td>\n",
       "    </tr>\n",
       "  </tbody>\n",
       "</table>\n",
       "</div>"
      ]
     },
     "metadata": {},
     "execution_count": 2
    }
   ],
   "metadata": {}
  },
  {
   "cell_type": "code",
   "execution_count": 3,
   "source": [
    "# Simulate on time step\r\n",
    "P_th, P_el, COP = hpl.simulate(-7, 52, parameters)\r\n",
    "print('Thermal Power output: '+str(P_th)+' W')\r\n",
    "print('Electrical Power input: '+str(P_el)+' W')\r\n",
    "print('COP: '+str(COP))"
   ],
   "outputs": [
    {
     "output_type": "stream",
     "name": "stdout",
     "text": [
      "Thermal Power output: 10000.000000000002 W\n",
      "Electrical Power input: 7036.549601310043 W\n",
      "COP: 1.4211510707091772\n"
     ]
    }
   ],
   "metadata": {}
  },
  {
   "cell_type": "code",
   "execution_count": 4,
   "source": [
    "# Simulate a time series"
   ],
   "outputs": [],
   "metadata": {}
  },
  {
   "cell_type": "code",
   "execution_count": null,
   "source": [],
   "outputs": [],
   "metadata": {}
  }
 ],
 "metadata": {
  "interpreter": {
   "hash": "1c4c526e93e8287540b24b192ade22dda43c6f2790b410e79d9bb5a13eace6d2"
  },
  "kernelspec": {
   "name": "python3",
   "display_name": "Python 3.8.5 64-bit ('base': conda)"
  },
  "language_info": {
   "codemirror_mode": {
    "name": "ipython",
    "version": 3
   },
   "file_extension": ".py",
   "mimetype": "text/x-python",
   "name": "python",
   "nbconvert_exporter": "python",
   "pygments_lexer": "ipython3",
   "version": "3.8.5"
  },
  "orig_nbformat": 4
 },
 "nbformat": 4,
 "nbformat_minor": 2
}