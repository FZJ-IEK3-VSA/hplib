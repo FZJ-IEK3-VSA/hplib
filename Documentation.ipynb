{
 "cells": [
  {
   "cell_type": "markdown",
   "source": [
    "# Documentation for the creation and usage of the heatpump library (hplib)\r\n",
    "\r\n",
    "\r\n"
   ],
   "metadata": {}
  },
  {
   "cell_type": "code",
   "execution_count": 1,
   "source": [
    "import hplib as hpl\r\n",
    "import hplib_database as db\r\n",
    "import pandas as pd\r\n",
    "import matplotlib.pyplot as plt"
   ],
   "outputs": [],
   "metadata": {}
  },
  {
   "cell_type": "markdown",
   "source": [
    "## Defintions\r\n",
    "\r\n",
    "**Abbreviations**\r\n",
    "\r\n",
    "| Abbreviation | Meaning |\r\n",
    "| --- | --- |\r\n",
    "| P_th | Thermal output power in W |\r\n",
    "| P_el | Electical input Power in W |\r\n",
    "| COP | Coefficient of performance |\r\n",
    "| T_in | Input temperature in °C at primary side of the heat pump |\r\n",
    "| T_out | Output temperature in °C at secondary side of the heat pump |\r\n",
    "| P_th_ref | Thermal output power in W at T_in = -7 °C and T_out = 52 °C or for Generic at point of definition|\r\n",
    "| P_el_ref | Elecrical output power in W at T_in = -7 °C and T_out = 52 °C or for Generic at point of definition|\r\n",
    "| COP_ref | Coefficient of performance at T_in = -7 °C and T_out = 52 °C or for Generic at point of definition|\r\n",
    "| p1,p2,p3 | Fit-Parameters for Fit-Function |\r\n",
    "\r\n",
    "\r\n",
    "**Group IDs**\r\n",
    "\r\n",
    "| Group ID | Type | Subtype |\r\n",
    "| --- | --- | --- |\r\n",
    "| 1 | Outdoor Air / Water | Inverter | \r\n",
    "| 2 | Brine / Water | Inverter | \r\n",
    "| 3 | Water / Water | Inverter | \r\n",
    "| 4 | Outdoor Air / Water | On-Off | \r\n",
    "| 5 | Brine / Water | On-Off | \r\n",
    "| 6 | Water / Water | On-Off | "
   ],
   "metadata": {}
  },
  {
   "cell_type": "markdown",
   "source": [
    "## Database Preparation\n",
    "1. we downloaded all manufacturer data from https://keymark.eu/en/products/heatpumps/certified-products\n",
    "2. then we unzipped the files and used the bash-skript to convert pdf into txt\n",
    "3. afterwards we used this following functions to create and extent the heatpump keymark database"
   ],
   "metadata": {}
  },
  {
   "cell_type": "code",
   "execution_count": null,
   "source": [
    "# Import keymark data and save to csv database\r\n",
    "db.ImportKeymarkData()\r\n",
    "# -> this creates /output/database_keymark.csv)"
   ],
   "outputs": [],
   "metadata": {}
  },
  {
   "cell_type": "code",
   "execution_count": null,
   "source": [
    "# Reduce to climate measurement series with average climate, delete redundant entries and save to csv sub-database\r\n",
    "db.ReduceKeymarkData('database_keymark.csv','average')\r\n",
    "# -> this creates /output/database_keymark_average.csv)"
   ],
   "outputs": [],
   "metadata": {}
  },
  {
   "cell_type": "code",
   "execution_count": null,
   "source": [
    "# Normalize electrical and thermal power from the keymark database to values from setpoint T_in = -7 °C and T_out = 34 °C\r\n",
    "db.NormalizeKeymarkData('database_keymark_average.csv')\r\n",
    "# -> this creates /output/database_keymark_average_normalized.csv)"
   ],
   "outputs": [],
   "metadata": {}
  },
  {
   "cell_type": "code",
   "execution_count": null,
   "source": [
    "# Identify subtypes: On-Off and Inverter Heatpump and assign group depending on its type and subtype\r\n",
    "db.IdentifySubtypes('database_keymark_average_normalized.csv')\r\n",
    "# -> this creates /output/database_keymark_average_normalized_subtypes.csv)"
   ],
   "outputs": [],
   "metadata": {}
  },
  {
   "cell_type": "code",
   "execution_count": null,
   "source": [
    "#Calculate parameters p1-p3 for P_th, P_el and COP\r\n",
    "db.CalculateFunctionParameters('database_keymark_average_normalized_subtypes.csv')\r\n",
    "# -> this creates the final hplib_database.csv"
   ],
   "outputs": [],
   "metadata": {}
  },
  {
   "cell_type": "code",
   "execution_count": null,
   "source": [
    "#Calculate generic heatpump models for each group\r\n",
    "db.addGeneric()\r\n",
    "# -> this overwrites the hplib_database.csv"
   ],
   "outputs": [],
   "metadata": {}
  },
  {
   "cell_type": "code",
   "execution_count": null,
   "source": [
    "#Reduce to unique heat pump models\r\n",
    "db.ReduceToUnique()\r\n",
    "# -> this overwrites the hplib_database.csv"
   ],
   "outputs": [],
   "metadata": {}
  },
  {
   "cell_type": "markdown",
   "source": [
    "## Usage for simulation"
   ],
   "metadata": {}
  },
  {
   "cell_type": "code",
   "execution_count": null,
   "source": [
    "# Have a look into the hplib database\r\n",
    "database = hpl.loadDatabase()\r\n",
    "database"
   ],
   "outputs": [],
   "metadata": {}
  },
  {
   "cell_type": "code",
   "execution_count": null,
   "source": [
    "# Define a specific heatpump model and get parameters\r\n",
    "parameters = hpl.getParameters('i-SHWAK V4 06')\r\n",
    "parameters"
   ],
   "outputs": [],
   "metadata": {}
  },
  {
   "cell_type": "code",
   "execution_count": 2,
   "source": [
    "# Alternatively, define a \"Generic\" heatpump model and get parameters\r\n",
    "# For every Group ID there is a parameter set which represents an average heatpump of its group\r\n",
    "# Please define the Type \"Generic\", the Group ID (1-9) and P_th_ref in W\r\n",
    "parameters = hpl.getParameters('Generic',Group=1,T_primary=5,T_secondary=50,P_th=10000)\r\n",
    "parameters"
   ],
   "outputs": [
    {
     "output_type": "execute_result",
     "data": {
      "text/plain": [
       "     Model  P_th_ref [W]  P_el_ref [W]   COP_ref  Group  p1_P_th [1/°C]  \\\n",
       "0  Generic       10000.0   2917.362943  3.427753    1.0       -0.030227   \n",
       "\n",
       "   p2_P_th [1/°C]  p3_P_th [-]  p1_P_el [1/°C]  p2_P_el [1/°C]  p3_P_el [-]  \\\n",
       "0       -0.003634      0.91786       -0.030932        0.009415     0.190375   \n",
       "\n",
       "   p1_COP [-]  p2_COP [-]  p3_COP [-]  T_primary  T_secondary  \n",
       "0    0.154544   -0.088169    7.063466        5.0         50.0  "
      ],
      "text/html": [
       "<div>\n",
       "<style scoped>\n",
       "    .dataframe tbody tr th:only-of-type {\n",
       "        vertical-align: middle;\n",
       "    }\n",
       "\n",
       "    .dataframe tbody tr th {\n",
       "        vertical-align: top;\n",
       "    }\n",
       "\n",
       "    .dataframe thead th {\n",
       "        text-align: right;\n",
       "    }\n",
       "</style>\n",
       "<table border=\"1\" class=\"dataframe\">\n",
       "  <thead>\n",
       "    <tr style=\"text-align: right;\">\n",
       "      <th></th>\n",
       "      <th>Model</th>\n",
       "      <th>P_th_ref [W]</th>\n",
       "      <th>P_el_ref [W]</th>\n",
       "      <th>COP_ref</th>\n",
       "      <th>Group</th>\n",
       "      <th>p1_P_th [1/°C]</th>\n",
       "      <th>p2_P_th [1/°C]</th>\n",
       "      <th>p3_P_th [-]</th>\n",
       "      <th>p1_P_el [1/°C]</th>\n",
       "      <th>p2_P_el [1/°C]</th>\n",
       "      <th>p3_P_el [-]</th>\n",
       "      <th>p1_COP [-]</th>\n",
       "      <th>p2_COP [-]</th>\n",
       "      <th>p3_COP [-]</th>\n",
       "      <th>T_primary</th>\n",
       "      <th>T_secondary</th>\n",
       "    </tr>\n",
       "  </thead>\n",
       "  <tbody>\n",
       "    <tr>\n",
       "      <th>0</th>\n",
       "      <td>Generic</td>\n",
       "      <td>10000.0</td>\n",
       "      <td>2917.362943</td>\n",
       "      <td>3.427753</td>\n",
       "      <td>1.0</td>\n",
       "      <td>-0.030227</td>\n",
       "      <td>-0.003634</td>\n",
       "      <td>0.91786</td>\n",
       "      <td>-0.030932</td>\n",
       "      <td>0.009415</td>\n",
       "      <td>0.190375</td>\n",
       "      <td>0.154544</td>\n",
       "      <td>-0.088169</td>\n",
       "      <td>7.063466</td>\n",
       "      <td>5.0</td>\n",
       "      <td>50.0</td>\n",
       "    </tr>\n",
       "  </tbody>\n",
       "</table>\n",
       "</div>"
      ]
     },
     "metadata": {},
     "execution_count": 2
    }
   ],
   "metadata": {}
  },
  {
   "cell_type": "code",
   "execution_count": 4,
   "source": [
    "# Simulate on time step\r\n",
    "# Please define T_in_primary, T_in_secondary in °C and the parameters from the previous step \r\n",
    "# The T_in_secondary is supposed to be heated up by 5 K which then results in T_out\r\n",
    "# For a time series create a loop with the function\r\n",
    "P_th, P_el, COP, T_out, m_dot = hpl.simulate(5, 45, parameters)\r\n",
    "print('P_th: '+str(int(P_th))+' W')\r\n",
    "print('P_el: '+str(int(P_el))+' W')\r\n",
    "print('COP: '+str(round(COP,3)))\r\n",
    "print(T_out)"
   ],
   "outputs": [
    {
     "output_type": "stream",
     "name": "stdout",
     "text": [
      "P_th: 10000 W\n",
      "P_el: 2917 W\n",
      "COP: 3.428\n",
      "50\n"
     ]
    }
   ],
   "metadata": {}
  },
  {
   "cell_type": "markdown",
   "source": [
    "**Very important:** With the Fit-Parameters p1-p3 for P_th, P_el and COP it is possible to calculate the results with the following methods:\n",
    "\n",
    "1. P_th and P_el with Fit-Functions and `COP = P_th / P_el`\n",
    "2. P_th and COP with Fit-Functions and `P_el = P_th / COP`\n",
    "3. P_el and COP with Fut-Functions and `P_th = P_el * COP`\n",
    "\n",
    "While the model by Schwarmberger et. al. uses the 1. method, our validation showed, that the 3. method results in better results. Therefore we decided to implement this in the `simulate` definition."
   ],
   "metadata": {}
  },
  {
   "cell_type": "markdown",
   "source": [
    "## Examples"
   ],
   "metadata": {}
  },
  {
   "cell_type": "markdown",
   "source": [
    "**Schematic plotting** of P_th, P_el and COP for an generic air/water heat pump: subtype = **On-Off** "
   ],
   "metadata": {}
  },
  {
   "cell_type": "code",
   "execution_count": null,
   "source": [
    "# Define Temperatures\r\n",
    "T_in_primary = range(-15, 25) # air temperatur\r\n",
    "T_in_secondary = [45]#range(20,55) # e.g. temperature from hot water storage\r\n",
    "\r\n",
    "# Load parameters of Generic Air/Water, On-Off\r\n",
    "parameters = hpl.getParameters('Generic', Group=1,T_primary=-10,T_secondary=50, P_th=10000)\r\n",
    "#parameters = hpl.getParameters('CHA-10/400V')\r\n",
    "\r\n",
    "# Simulate \r\n",
    "names = ['T_in_primary','P_th', 'P_el', 'COP', 'T_out', 'm_dot']\r\n",
    "data = []\r\n",
    "\r\n",
    "for t1 in T_in_primary:\r\n",
    "    for t2 in T_in_secondary:\r\n",
    "        P_th, P_el, COP, T_out, m_dot = hpl.simulate(t1, t2, parameters)\r\n",
    "        data.append([t1, P_th, P_el, COP, T_out, m_dot])\r\n",
    "\r\n",
    "results = pd.DataFrame(data, columns=names)\r\n",
    "\r\n",
    "# Plot\r\n",
    "fig, axes = plt.subplots(nrows=2, ncols=1, sharex=True)\r\n",
    "results.plot(ax=axes[0],x='T_in_primary',y=['COP'],color='black', grid=True)\r\n",
    "results.plot(ax=axes[1],x='T_in_primary',y=['P_th','P_el'],grid=True)"
   ],
   "outputs": [],
   "metadata": {}
  },
  {
   "cell_type": "code",
   "execution_count": null,
   "source": [
    "results"
   ],
   "outputs": [],
   "metadata": {}
  },
  {
   "cell_type": "code",
   "execution_count": null,
   "source": [],
   "outputs": [],
   "metadata": {}
  }
 ],
 "metadata": {
  "interpreter": {
   "hash": "1c4c526e93e8287540b24b192ade22dda43c6f2790b410e79d9bb5a13eace6d2"
  },
  "kernelspec": {
   "name": "python3",
   "display_name": "Python 3.8.5 64-bit ('base': conda)"
  },
  "language_info": {
   "codemirror_mode": {
    "name": "ipython",
    "version": 3
   },
   "file_extension": ".py",
   "mimetype": "text/x-python",
   "name": "python",
   "nbconvert_exporter": "python",
   "pygments_lexer": "ipython3",
   "version": "3.8.5"
  },
  "orig_nbformat": 4
 },
 "nbformat": 4,
 "nbformat_minor": 2
}