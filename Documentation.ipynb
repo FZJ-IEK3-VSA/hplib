{
 "cells": [
  {
   "cell_type": "markdown",
   "source": [
    "# Documentation for the creation and usage of the heatpump library (hplib)\r\n",
    "\r\n",
    "\r\n"
   ],
   "metadata": {}
  },
  {
   "cell_type": "code",
   "execution_count": 1,
   "source": [
    "import hplib as hpl\n",
    "import hplib_database as db\n",
    "import pandas as pd\n",
    "import matplotlib.pyplot as plt"
   ],
   "outputs": [],
   "metadata": {}
  },
  {
   "cell_type": "markdown",
   "source": [
    "## Defintions\n",
    "\n",
    "**Abbreviations**\n",
    "\n",
    "| Abbreviation | Meaning |\n",
    "| --- | --- |\n",
    "| P_th | Thermal output power in W |\n",
    "| P_el | Electical input Power in W |\n",
    "| COP | Coefficient of performance |\n",
    "| T_in | Input temperature in °C at primary side of the heat pump |\n",
    "| T_out | Output temperature in °C at secondary side of the heat pump |\n",
    "| P_th_ref | Thermal output power in W at T_in = -7 °C and T_out = 52 °C |\n",
    "| P_el_ref | Elecrical output power in W at T_in = -7 °C and T_out = 52 °C |\n",
    "| COP_ref | Coefficient of performance at T_in = -7 °C and T_out = 52 °C |\n",
    "| p1,p2,p3 | Fit-Parameters for Fit-Function |\n",
    "\n",
    "\n",
    "**Group IDs**\n",
    "\n",
    "| Group ID | Type | Subtype |\n",
    "| --- | --- | --- |\n",
    "| 1 | Outdoor Air / Water | Inverter | \n",
    "| 2 | Brine / Water | Inverter | \n",
    "| 3 | Water / Water | Inverter | \n",
    "| 4 | Outdoor Air / Water | On-Off | \n",
    "| 5 | Brine / Water | On-Off | \n",
    "| 6 | Water / Water | On-Off | \n",
    "| 7 | Outdoor Air / Water | 2-Stages | \n",
    "| 8 | Brine / Water | 2-Stages |\n",
    "| 9 | Water / Water | 2-Stages |"
   ],
   "metadata": {}
  },
  {
   "cell_type": "markdown",
   "source": [
    "## Database Preparation\n",
    "1. we downloaded all manufacturer data from https://keymark.eu/en/products/heatpumps/certified-products\n",
    "2. then we unzipped the files and used the bash-skript to convert pdf into txt\n",
    "3. afterwards we used this following functions to create and extent the heatpump keymark database"
   ],
   "metadata": {}
  },
  {
   "cell_type": "code",
   "execution_count": null,
   "source": [
    "# Import keymark data and save to csv database\n",
    "db.ImportKeymarkData()\n",
    "# -> this creates /output/database_keymark.csv)"
   ],
   "outputs": [],
   "metadata": {}
  },
  {
   "cell_type": "code",
   "execution_count": null,
   "source": [
    "# Reduce to climate measurement series with average climate, delete redundant entries and save to csv sub-database\n",
    "db.ReduceKeymarkData('database_keymark.csv','average')\n",
    "# -> this creates /output/database_keymark_average.csv)"
   ],
   "outputs": [],
   "metadata": {}
  },
  {
   "cell_type": "code",
   "execution_count": null,
   "source": [
    "# Normalize electrical and thermal power from the keymark database to values from setpoint T_in = -7 °C and T_out = 34 °C\n",
    "db.NormalizeKeymarkData('database_keymark_average.csv')\n",
    "# -> this creates /output/database_keymark_average_normalized.csv)"
   ],
   "outputs": [],
   "metadata": {}
  },
  {
   "cell_type": "code",
   "execution_count": null,
   "source": [
    "# Identify subtypes like On-Off, Inverter and 2-stages Heatpump and assign group depending on its type and subtype\n",
    "db.IdentifySubtypes('database_keymark_average_normalized.csv')\n",
    "# -> this creates /output/database_keymark_average_normalized_subtypes.csv)"
   ],
   "outputs": [],
   "metadata": {}
  },
  {
   "cell_type": "code",
   "execution_count": null,
   "source": [
    "#Calculate parameters p1-p3 for P_th, P_el and COP\n",
    "db.CalculateFunctionParameters('database_keymark_average_normalized_subtypes.csv')\n",
    "# -> this creates the final hplib_database.csv"
   ],
   "outputs": [],
   "metadata": {}
  },
  {
   "cell_type": "code",
   "execution_count": null,
   "source": [
    "#Calculate generic heatpump models for each group\n",
    "db.addGeneric()\n",
    "# -> this overwrites the hplib_database.csv"
   ],
   "outputs": [],
   "metadata": {}
  },
  {
   "cell_type": "code",
   "execution_count": null,
   "source": [
    "#Reduce to unique heat pump models\n",
    "db.ReduceToUnique()\n",
    "# -> this overwrites the hplib_database.csv"
   ],
   "outputs": [],
   "metadata": {}
  },
  {
   "cell_type": "markdown",
   "source": [
    "## Usage for simulation"
   ],
   "metadata": {}
  },
  {
   "cell_type": "code",
   "execution_count": null,
   "source": [
    "# Have a look into the hplib database\n",
    "database = hpl.loadDatabase()\n",
    "database"
   ],
   "outputs": [],
   "metadata": {}
  },
  {
   "cell_type": "code",
   "execution_count": null,
   "source": [
    "# Define a specific heatpump model and get parameters\n",
    "parameters = hpl.getParameters('i-SHWAK V4 06')\n",
    "parameters"
   ],
   "outputs": [],
   "metadata": {}
  },
  {
   "cell_type": "code",
   "execution_count": 2,
   "source": [
    "# Alternatively, define a \"Generic\" heatpump model and get parameters\n",
    "# For every Group ID there is a parameter set which represents an average heatpump of its group\n",
    "# Please define the Type \"Generic\", the Group ID (1-9) and P_th_ref in W\n",
    "parameters = hpl.getParameters('Generic',Group=1,T_primary=-5,T_secondary=35,P_th=10000)\n",
    "parameters"
   ],
   "outputs": [
    {
     "output_type": "execute_result",
     "data": {
      "text/plain": [
       "     Model  P_th_ref [W]  P_el_ref [W]   COP_ref  Group  p1_P_th [1/°C]  \\\n",
       "0  Generic         10000   3121.623967  3.203461    1.0       -0.028506   \n",
       "\n",
       "   p2_P_th [1/°C]  p3_P_th [-]  p1_P_el [1/°C]  p2_P_el [1/°C]  p3_P_el [-]  \\\n",
       "0       -0.003551      0.86788       -0.040189         0.01235     0.246655   \n",
       "\n",
       "   p1_COP [-]  p2_COP [-]  p3_COP [-]  \n",
       "0    0.153458   -0.087604    7.036879  "
      ],
      "text/html": [
       "<div>\n",
       "<style scoped>\n",
       "    .dataframe tbody tr th:only-of-type {\n",
       "        vertical-align: middle;\n",
       "    }\n",
       "\n",
       "    .dataframe tbody tr th {\n",
       "        vertical-align: top;\n",
       "    }\n",
       "\n",
       "    .dataframe thead th {\n",
       "        text-align: right;\n",
       "    }\n",
       "</style>\n",
       "<table border=\"1\" class=\"dataframe\">\n",
       "  <thead>\n",
       "    <tr style=\"text-align: right;\">\n",
       "      <th></th>\n",
       "      <th>Model</th>\n",
       "      <th>P_th_ref [W]</th>\n",
       "      <th>P_el_ref [W]</th>\n",
       "      <th>COP_ref</th>\n",
       "      <th>Group</th>\n",
       "      <th>p1_P_th [1/°C]</th>\n",
       "      <th>p2_P_th [1/°C]</th>\n",
       "      <th>p3_P_th [-]</th>\n",
       "      <th>p1_P_el [1/°C]</th>\n",
       "      <th>p2_P_el [1/°C]</th>\n",
       "      <th>p3_P_el [-]</th>\n",
       "      <th>p1_COP [-]</th>\n",
       "      <th>p2_COP [-]</th>\n",
       "      <th>p3_COP [-]</th>\n",
       "    </tr>\n",
       "  </thead>\n",
       "  <tbody>\n",
       "    <tr>\n",
       "      <th>0</th>\n",
       "      <td>Generic</td>\n",
       "      <td>10000</td>\n",
       "      <td>3121.623967</td>\n",
       "      <td>3.203461</td>\n",
       "      <td>1.0</td>\n",
       "      <td>-0.028506</td>\n",
       "      <td>-0.003551</td>\n",
       "      <td>0.86788</td>\n",
       "      <td>-0.040189</td>\n",
       "      <td>0.01235</td>\n",
       "      <td>0.246655</td>\n",
       "      <td>0.153458</td>\n",
       "      <td>-0.087604</td>\n",
       "      <td>7.036879</td>\n",
       "    </tr>\n",
       "  </tbody>\n",
       "</table>\n",
       "</div>"
      ]
     },
     "metadata": {},
     "execution_count": 2
    }
   ],
   "metadata": {}
  },
  {
   "cell_type": "code",
   "execution_count": 3,
   "source": [
    "# Simulate on time step\n",
    "# Please define T_in_primary, T_in_secondary in °C and the parameters from the previous step \n",
    "# The T_in_secondary is supposed to be heated up by 5 K which then results in T_out\n",
    "# For a time series create a loop with the function\n",
    "P_th, P_el, COP, T_out, m_dot = hpl.simulate(-5, 30, parameters)\n",
    "print('P_th: '+str(int(P_th))+' W')\n",
    "print('P_el: '+str(int(P_el))+' W')\n",
    "print('COP: '+str(round(COP,3)))"
   ],
   "outputs": [
    {
     "output_type": "stream",
     "name": "stdout",
     "text": [
      "P_th: 8798 W\n",
      "P_el: 2746 W\n",
      "COP: 3.203\n"
     ]
    }
   ],
   "metadata": {}
  },
  {
   "cell_type": "markdown",
   "source": [
    "**Very important:** With the Fit-Parameters p1-p3 for P_th, P_el and COP it is possible to calculate the results with the following methods:\n",
    "\n",
    "1. P_th and P_el with Fit-Functions and `COP = P_th / P_el`\n",
    "2. P_th and COP with Fit-Functions and `P_el = P_th / COP`\n",
    "3. P_el and COP with Fut-Functions and `P_th = P_el * COP`\n",
    "\n",
    "While the model by Schwarmberger et. al. uses the 1. method, our validation showed, that the 3. method results in better results. Therefore we decided to implement this in the `simulate` definition."
   ],
   "metadata": {}
  },
  {
   "cell_type": "markdown",
   "source": [
    "## Examples"
   ],
   "metadata": {}
  },
  {
   "cell_type": "markdown",
   "source": [
    "**Schematic plotting** of P_th, P_el and COP for an generic air/water heat pump: subtype = **On-Off** "
   ],
   "metadata": {}
  },
  {
   "cell_type": "code",
   "execution_count": null,
   "source": [
    "# Define Temperatures\n",
    "T_in_primary = range(-15, 25) # air temperatur\n",
    "T_in_secondary = range(20,55) # e.g. temperature from hot water storage\n",
    "\n",
    "# Load parameters of Generic Air/Water, On-Off\n",
    "parameters = hpl.getParameters('Generic', Group=4, P_th_ref=10000)\n",
    "#parameters = hpl.getParameters('CHA-10/400V')\n",
    "\n",
    "# Simulate \n",
    "names = ['T_in_primary','P_th', 'P_el', 'COP', 'T_out', 'm_dot']\n",
    "data = []\n",
    "\n",
    "for t1 in T_in_primary:\n",
    "    for t2 in T_in_secondary:\n",
    "        P_th, P_el, COP, T_out, m_dot = hpl.simulate(t1, t2, parameters)\n",
    "        data.append([t1, P_th, P_el, COP, T_out, m_dot])\n",
    "\n",
    "results = pd.DataFrame(data, columns=names)\n",
    "\n",
    "# Plot\n",
    "fig, axes = plt.subplots(nrows=2, ncols=1, sharex=True)\n",
    "results.plot(ax=axes[0],x='T_in_primary',y=['COP'],color='black', grid=True)\n",
    "results.plot(ax=axes[1],x='T_in_primary',y=['P_th','P_el'],grid=True)"
   ],
   "outputs": [],
   "metadata": {}
  },
  {
   "cell_type": "code",
   "execution_count": null,
   "source": [
    "results"
   ],
   "outputs": [],
   "metadata": {}
  },
  {
   "cell_type": "code",
   "execution_count": null,
   "source": [],
   "outputs": [],
   "metadata": {}
  }
 ],
 "metadata": {
  "interpreter": {
   "hash": "377d64e8aeaface4c38447ef003c7fef54ed0fb1e627155cc226b74375c99ad4"
  },
  "kernelspec": {
   "name": "python3",
   "display_name": "Python 3.8.8 64-bit ('hplib-database': conda)"
  },
  "language_info": {
   "codemirror_mode": {
    "name": "ipython",
    "version": 3
   },
   "file_extension": ".py",
   "mimetype": "text/x-python",
   "name": "python",
   "nbconvert_exporter": "python",
   "pygments_lexer": "ipython3",
   "version": "3.8.8"
  },
  "orig_nbformat": 4
 },
 "nbformat": 4,
 "nbformat_minor": 2
}