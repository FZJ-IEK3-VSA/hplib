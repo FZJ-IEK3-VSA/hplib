{
 "cells": [
  {
   "cell_type": "markdown",
   "source": [
    "# Documentation for the creation and usage of the heatpump library (hplib)\r\n",
    "\r\n",
    "\r\n"
   ],
   "metadata": {}
  },
  {
   "cell_type": "code",
   "execution_count": null,
   "source": [
    "import hplib as hpl\r\n",
    "import hplib_database as db\r\n",
    "import pandas as pd\r\n",
    "import matplotlib.pyplot as plt"
   ],
   "outputs": [],
   "metadata": {}
  },
  {
   "cell_type": "markdown",
   "source": [
    "## Defintions\r\n",
    "\r\n",
    "**Abbreviation**\r\n",
    "\r\n",
    "| Abbreviation | Meaning |\r\n",
    "| --- | --- |\r\n",
    "| P_th | Thermal Power in W |\r\n",
    "| P_el | electical Power in W |\r\n",
    "| COP | Coefficient of Performance |\r\n",
    "| P_th_ref | Thermal Power in W |\r\n",
    "| P_el_ref | electical Power in W |\r\n",
    "| COP_ref | electical Power in W |\r\n",
    "\r\n",
    "\r\n",
    "**Group IDs**\r\n",
    "| Group ID | Type | Subtype |\r\n",
    "| --- | --- | --- |\r\n",
    "| 1 | Outdoor Air / Water | Inverter | \r\n",
    "| 2 | Brine / Water | Inverter | \r\n",
    "| 3 | Water / Water | Inverter | \r\n",
    "| 4 | Outdoor Air / Water | On-Off | \r\n",
    "| 5 | Brine / Water | On-Off | \r\n",
    "| 6 | Water / Water | On-Off | \r\n",
    "| 7 | Outdoor Air / Water | 2-Stages | \r\n",
    "| 8 | Brine / Water | 2-Stages |\r\n",
    "| 9 | Water / Water | 2-Stages |"
   ],
   "metadata": {}
  },
  {
   "cell_type": "markdown",
   "source": [
    "## Database Preparation\n",
    "1. we downloaded all manufacturer data from https://keymark.eu/en/products/heatpumps/certified-products\n",
    "2. then we unzipped the files and used the bash-skript to convert pdf into txt\n",
    "3. afterwards we used this following functions to create and extent the heatpump keymark database"
   ],
   "metadata": {}
  },
  {
   "cell_type": "code",
   "execution_count": null,
   "source": [
    "# Import keymark data and save to csv database\r\n",
    "db.ImportKeymarkData()\r\n",
    "# -> this creates /output/database_keymark.csv)"
   ],
   "outputs": [],
   "metadata": {}
  },
  {
   "cell_type": "code",
   "execution_count": null,
   "source": [
    "# Reduce to climate measurement series with average climate, delete redundant entries and save to csv sub-database\r\n",
    "db.ReduceKeymarkData('database_keymark.csv','average')\r\n",
    "# -> this creates /output/database_keymark_average.csv)"
   ],
   "outputs": [],
   "metadata": {}
  },
  {
   "cell_type": "code",
   "execution_count": null,
   "source": [
    "# Normalize electrical and thermal power from the keymark database to values from setpoint T_in = -7 °C and T_out = 52 °C\r\n",
    "db.NormalizeKeymarkData('database_keymark_average.csv')\r\n",
    "# -> this creates /output/database_keymark_average_normalized.csv)"
   ],
   "outputs": [],
   "metadata": {}
  },
  {
   "cell_type": "code",
   "execution_count": null,
   "source": [
    "# Identify subtypes like On-Off, Inverter and 2-stages Heatpump and assign group depending on its type and subtype\r\n",
    "db.IdentifySubtypes('database_keymark_average_normalized.csv')\r\n",
    "# -> this creates /output/database_keymark_average_normalized_subtypes.csv)"
   ],
   "outputs": [],
   "metadata": {}
  },
  {
   "cell_type": "code",
   "execution_count": null,
   "source": [
    "#Calculate parameters p1-p3 for P_th, P_el and COP\r\n",
    "db.CalculateFunctionParameters('database_keymark_average_normalized_subtypes.csv')\r\n",
    "# -> this creates the final hplib_database.csv"
   ],
   "outputs": [],
   "metadata": {}
  },
  {
   "cell_type": "code",
   "execution_count": null,
   "source": [
    "#Calculate generic heatpump models for each group\r\n",
    "db.addGeneric()\r\n",
    "# -> this overwrites the hplib_database.csv"
   ],
   "outputs": [],
   "metadata": {}
  },
  {
   "cell_type": "code",
   "execution_count": 2,
   "source": [
    "#Reduce to unique Values\r\n",
    "db.ReduceToUnique()\r\n",
    "# -> this overwrites the hplib_database.csv"
   ],
   "outputs": [],
   "metadata": {}
  },
  {
   "cell_type": "markdown",
   "source": [
    "## Usage for simulation"
   ],
   "metadata": {}
  },
  {
   "cell_type": "code",
   "execution_count": null,
   "source": [
    "# Have a look into the hplib database\r\n",
    "database = hpl.loadDatabase()\r\n",
    "database"
   ],
   "outputs": [],
   "metadata": {}
  },
  {
   "cell_type": "code",
   "execution_count": null,
   "source": [
    "#Show how many unique heatpumps are in each group\r\n",
    "Groups=[1,2,3,4,5,6,7,8,9]\r\n",
    "for group in Groups:\r\n",
    "    dbgroup=database.loc[(database['Group']==group)&(database['Model']!='Generic'),]\r\n",
    "    print(group,len(pd.unique(dbgroup['p3_P_el [-]']).tolist()),len(dbgroup['p1_P_el [1/°C]'].tolist()))"
   ],
   "outputs": [],
   "metadata": {}
  },
  {
   "cell_type": "code",
   "execution_count": null,
   "source": [
    "# Define a specific heatpump model and get parameters\r\n",
    "parameters = hpl.getParameters('i-SHWAK V4 06')\r\n",
    "parameters"
   ],
   "outputs": [],
   "metadata": {}
  },
  {
   "cell_type": "code",
   "execution_count": null,
   "source": [
    "# Alternatively, define a \"Generic\" heatpump model and get parameters\r\n",
    "# For every Group ID there is a parameter set which represents an average heatpump of its group\r\n",
    "# Please define the Type \"Generic\", the Group ID (1-9) and P_th_ref in W\r\n",
    "parameters = hpl.getParameters('Generic',1,10000)\r\n",
    "parameters"
   ],
   "outputs": [],
   "metadata": {}
  },
  {
   "cell_type": "code",
   "execution_count": null,
   "source": [
    "# Simulate on time step\r\n",
    "# Please define T_in_primary, T_in_secondary in °C and the parameters from the previous step \r\n",
    "# The T_in_secondary is supposed to be heated up by 5 K\r\n",
    "P_th, P_el, COP = hpl.simulate(-7, 47, parameters)\r\n",
    "print('P_th: '+str(int(P_th))+' W')\r\n",
    "print('P_el: '+str(int(P_el))+' W')\r\n",
    "print('COP: '+str(round(COP,3)))"
   ],
   "outputs": [],
   "metadata": {}
  },
  {
   "cell_type": "code",
   "execution_count": null,
   "source": [
    "# For a time series create a loop with the function"
   ],
   "outputs": [],
   "metadata": {}
  },
  {
   "cell_type": "markdown",
   "source": [
    "## Overview of the efficiency range of the heatpump models within the database"
   ],
   "metadata": {}
  },
  {
   "cell_type": "code",
   "execution_count": null,
   "source": [
    "# Plotting the COPs for every heatpump, sorted by Group ID\r\n",
    "\r\n",
    "para = pd.read_csv('hplib_database.csv')\r\n",
    "#Plot Pth, Pel, COP for choosen models\r\n",
    "Groups=[1,2,4,5] #define wich groups to plot\r\n",
    "for groups_c in Groups:\r\n",
    "    Group1=para.loc[para['Group']==groups_c,:] \r\n",
    "    T_in=[*range(-15,36,1)]#inflow TEMP\r\n",
    "    T_out=[30,55]\r\n",
    "    #get parameters\r\n",
    "    Models=(Group1['Model'].values.tolist())\r\n",
    "    p1_P_th=(Group1['p1_P_th [1/°C]'].values.tolist())\r\n",
    "    p2_P_th=(Group1['p2_P_th [1/°C]'].values.tolist())\r\n",
    "    p3_P_th=(Group1['p3_P_th [-]'].values.tolist())\r\n",
    "    p1_P_el=(Group1['p1_P_el [1/°C]'].values.tolist())\r\n",
    "    p2_P_el=(Group1['p2_P_el [1/°C]'].values.tolist())\r\n",
    "    p3_P_el=(Group1['p3_P_el [-]'].values.tolist())\r\n",
    "    p1_COP=(Group1['p1_COP [-]'].values.tolist())\r\n",
    "    p2_COP=(Group1['p2_COP [-]'].values.tolist())\r\n",
    "    p3_COP=(Group1['p3_COP [-]'].values.tolist())\r\n",
    "    p_el_ref=Group1['P_el_ref [W]'].values.tolist()\r\n",
    "    p_th_ref=Group1['P_th_ref [W]'].values.tolist()\r\n",
    "    i=0 #iterator for-loop\r\n",
    "    #create Dataframes to plot\r\n",
    "    COP_low_g=pd.DataFrame()\r\n",
    "    COP_low_g['T_in']=T_in\r\n",
    "    COP_high_g=pd.DataFrame()\r\n",
    "    COP_high_g['T_in']=T_in\r\n",
    "    Average_g=pd.DataFrame()\r\n",
    "    Average_g['T_in']=T_in\r\n",
    "    #get average values\r\n",
    "    k7_average=Group1[-1:]['p1_COP [-]'].values.tolist()[0]\r\n",
    "    k8_average=Group1[-1:]['p2_COP [-]'].values.tolist()[0]\r\n",
    "    k9_average=Group1[-1:]['p3_COP [-]'].values.tolist()[0]\r\n",
    "    Group_average=Group1[-1:]\r\n",
    "    for number in p1_P_th: #iterate by all model\r\n",
    "        COP_low=[]\r\n",
    "        COP_high=[]\r\n",
    "        Average_cop_low=[]\r\n",
    "        Average_cop_high=[]\r\n",
    "        for tin in T_in: #calculate Thermal and electric Power and COP\r\n",
    "            p_th_low,p_el_low,cop_low=hpl.simulate(tin,T_out[0],Group1.iloc[i:i+1])\r\n",
    "            p_th_high,p_el_high,cop_high=hpl.simulate(tin,T_out[1],Group1.iloc[i:i+1])\r\n",
    "            COP_low.append(cop_low)\r\n",
    "            COP_high.append(cop_high)\r\n",
    "            average_pthlow,average_pellow,average_low=hpl.simulate(tin,T_out[0],Group_average)\r\n",
    "            average_pthhigh,average_pelhigh,average_high=hpl.simulate(tin,T_out[1],Group_average)\r\n",
    "            #calculate for average values\r\n",
    "            Average_cop_low.append(average_low)\r\n",
    "            Average_cop_high.append(average_high)\r\n",
    "        #write values in a dataframe\r\n",
    "        COP_low_g[Models[i]]=COP_low\r\n",
    "        COP_high_g[Models[i]]=COP_high\r\n",
    "        Average_g['COP_low']=Average_cop_low\r\n",
    "        Average_g['COP_high']=Average_cop_high\r\n",
    "        i=i+1 #increase iterator\r\n",
    "\r\n",
    "\r\n",
    "    #Plot: COP\r\n",
    "    fig, axes = plt.subplots(nrows=1, ncols=1)\r\n",
    "    variable=str(groups_c)\r\n",
    "    COP_low_g.plot(ax=axes, x='T_in', y=Models, kind='line', c='Blue', title='Group:' + variable + '\\n COP', legend=False)\r\n",
    "    COP_high_g.plot(ax=axes, x='T_in', y=Models, kind='line', c='Red', legend=False)\r\n",
    "    Average_g.plot(ax=axes, x='T_in', y='COP_low', kind='line', c='Black', legend=False)\r\n",
    "    Average_g.plot(ax=axes, x='T_in', y='COP_high', kind='line', c='Black', legend=False)\r\n",
    "    plt.show()\r\n"
   ],
   "outputs": [],
   "metadata": {}
  },
  {
   "cell_type": "code",
   "execution_count": null,
   "source": [],
   "outputs": [],
   "metadata": {}
  }
 ],
 "metadata": {
  "interpreter": {
   "hash": "1c4c526e93e8287540b24b192ade22dda43c6f2790b410e79d9bb5a13eace6d2"
  },
  "kernelspec": {
   "name": "python3",
   "display_name": "Python 3.8.5 64-bit ('base': conda)"
  },
  "language_info": {
   "codemirror_mode": {
    "name": "ipython",
    "version": 3
   },
   "file_extension": ".py",
   "mimetype": "text/x-python",
   "name": "python",
   "nbconvert_exporter": "python",
   "pygments_lexer": "ipython3",
   "version": "3.8.5"
  },
  "orig_nbformat": 4
 },
 "nbformat": 4,
 "nbformat_minor": 2
}