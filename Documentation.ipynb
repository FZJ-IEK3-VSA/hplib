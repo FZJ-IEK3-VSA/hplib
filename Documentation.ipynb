{
 "cells": [
  {
   "cell_type": "markdown",
   "source": [
    "# Documentation for the creation and usage of the heatpump library (hplib)\r\n",
    "\r\n",
    "\r\n"
   ],
   "metadata": {}
  },
  {
   "cell_type": "code",
   "execution_count": 1,
   "source": [
    "import hplib as hpl\r\n",
    "import hplib_database as db\r\n",
    "import pandas as pd\r\n",
    "import matplotlib.pyplot as plt"
   ],
   "outputs": [],
   "metadata": {}
  },
  {
   "cell_type": "markdown",
   "source": [
    "## Defintions\n",
    "\n",
    "**Abbreviations**\n",
    "\n",
    "| Abbreviation | Meaning |\n",
    "| --- | --- |\n",
    "| P_th | Thermal output power in W |\n",
    "| P_el | Electical input Power in W |\n",
    "| COP | Coefficient of performance |\n",
    "| T_in | Input temperature in °C at primary side of the heat pump |\n",
    "| T_out | Output temperature in °C at secondary side of the heat pump |\n",
    "| P_th_ref | Thermal output power in W at T_in = -7 °C and T_out = 52 °C |\n",
    "| P_el_ref | Elecrical output power in W at T_in = -7 °C and T_out = 52 °C |\n",
    "| COP_ref | Coefficient of performance at T_in = -7 °C and T_out = 52 °C |\n",
    "| p1,p2,p3 | Fit-Parameters for Fit-Function |\n",
    "\n",
    "\n",
    "**Group IDs**\n",
    "\n",
    "| Group ID | Type | Subtype |\n",
    "| --- | --- | --- |\n",
    "| 1 | Outdoor Air / Water | Inverter | \n",
    "| 2 | Brine / Water | Inverter | \n",
    "| 3 | Water / Water | Inverter | \n",
    "| 4 | Outdoor Air / Water | On-Off | \n",
    "| 5 | Brine / Water | On-Off | \n",
    "| 6 | Water / Water | On-Off | "
   ],
   "metadata": {}
  },
  {
   "cell_type": "markdown",
   "source": [
    "## Database Preparation\n",
    "1. we downloaded all manufacturer data from https://keymark.eu/en/products/heatpumps/certified-products\n",
    "2. then we unzipped the files and used the bash-skript to convert pdf into txt\n",
    "3. afterwards we used this following functions to create and extent the heatpump keymark database"
   ],
   "metadata": {}
  },
  {
   "cell_type": "code",
   "execution_count": null,
   "source": [
    "# Import keymark data and save to csv database\r\n",
    "db.ImportKeymarkData()\r\n",
    "# -> this creates /output/database_keymark.csv)"
   ],
   "outputs": [],
   "metadata": {}
  },
  {
   "cell_type": "code",
   "execution_count": null,
   "source": [
    "# Reduce to climate measurement series with average climate, delete redundant entries and save to csv sub-database\r\n",
    "db.ReduceKeymarkData('database_keymark.csv','average')\r\n",
    "# -> this creates /output/database_keymark_average.csv)"
   ],
   "outputs": [],
   "metadata": {}
  },
  {
   "cell_type": "code",
   "execution_count": null,
   "source": [
    "# Normalize electrical and thermal power from the keymark database to values from setpoint T_in = -7 °C and T_out = 34 °C\r\n",
    "db.NormalizeKeymarkData('database_keymark_average.csv')\r\n",
    "# -> this creates /output/database_keymark_average_normalized.csv)"
   ],
   "outputs": [],
   "metadata": {}
  },
  {
   "cell_type": "code",
   "execution_count": null,
   "source": [
    "# Identify subtypes like On-Off, Inverter and 2-stages Heatpump and assign group depending on its type and subtype\r\n",
    "db.IdentifySubtypes('database_keymark_average_normalized.csv')\r\n",
    "# -> this creates /output/database_keymark_average_normalized_subtypes.csv)"
   ],
   "outputs": [],
   "metadata": {}
  },
  {
   "cell_type": "code",
   "execution_count": null,
   "source": [
    "#Calculate parameters p1-p3 for P_th, P_el and COP\r\n",
    "db.CalculateFunctionParameters('database_keymark_average_normalized_subtypes.csv')\r\n",
    "# -> this creates the final hplib_database.csv"
   ],
   "outputs": [],
   "metadata": {}
  },
  {
   "cell_type": "code",
   "execution_count": 5,
   "source": [
    "#Calculate generic heatpump models for each group\r\n",
    "db.addGeneric()\r\n",
    "# -> this overwrites the hplib_database.csv"
   ],
   "outputs": [
    {
     "output_type": "stream",
     "name": "stderr",
     "text": [
      "c:\\Users\\Hauke\\Documents\\GitHub\\hplib\\hplib_database.py:1548: RuntimeWarning: Mean of empty slice.\n",
      "  p1_P_th_average=pd.unique(Group1['p1_P_th [1/°C]']).mean(0)\n",
      "D:\\Job\\Anaconda\\lib\\site-packages\\numpy\\core\\_methods.py:170: RuntimeWarning: invalid value encountered in double_scalars\n",
      "  ret = ret.dtype.type(ret / rcount)\n",
      "c:\\Users\\Hauke\\Documents\\GitHub\\hplib\\hplib_database.py:1549: RuntimeWarning: Mean of empty slice.\n",
      "  p2_P_th_average=pd.unique(Group1['p2_P_th [1/°C]']).mean(0)\n",
      "c:\\Users\\Hauke\\Documents\\GitHub\\hplib\\hplib_database.py:1550: RuntimeWarning: Mean of empty slice.\n",
      "  p3_P_th_average=pd.unique(Group1['p3_P_th [-]']).mean(0)\n",
      "c:\\Users\\Hauke\\Documents\\GitHub\\hplib\\hplib_database.py:1551: RuntimeWarning: Mean of empty slice.\n",
      "  p4_P_th_average=pd.unique(Group1['p4_P_th [1/°C]']).mean(0)\n",
      "c:\\Users\\Hauke\\Documents\\GitHub\\hplib\\hplib_database.py:1552: RuntimeWarning: Mean of empty slice.\n",
      "  p1_P_el_average=pd.unique(Group1['p1_P_el [1/°C]']).mean(0)\n",
      "c:\\Users\\Hauke\\Documents\\GitHub\\hplib\\hplib_database.py:1553: RuntimeWarning: Mean of empty slice.\n",
      "  p2_P_el_average=pd.unique(Group1['p2_P_el [1/°C]']).mean(0)\n",
      "c:\\Users\\Hauke\\Documents\\GitHub\\hplib\\hplib_database.py:1554: RuntimeWarning: Mean of empty slice.\n",
      "  p3_P_el_average=pd.unique(Group1['p3_P_el [-]']).mean(0)\n",
      "c:\\Users\\Hauke\\Documents\\GitHub\\hplib\\hplib_database.py:1555: RuntimeWarning: Mean of empty slice.\n",
      "  p4_P_el_average=pd.unique(Group1['p4_P_el [1/°C]']).mean(0)\n",
      "c:\\Users\\Hauke\\Documents\\GitHub\\hplib\\hplib_database.py:1556: RuntimeWarning: Mean of empty slice.\n",
      "  p1_COP_average=pd.unique(Group1['p1_COP [-]']).mean(0)\n",
      "c:\\Users\\Hauke\\Documents\\GitHub\\hplib\\hplib_database.py:1557: RuntimeWarning: Mean of empty slice.\n",
      "  p2_COP_average=pd.unique(Group1['p2_COP [-]']).mean(0)\n",
      "c:\\Users\\Hauke\\Documents\\GitHub\\hplib\\hplib_database.py:1558: RuntimeWarning: Mean of empty slice.\n",
      "  p3_COP_average=pd.unique(Group1['p3_COP [-]']).mean(0)\n",
      "c:\\Users\\Hauke\\Documents\\GitHub\\hplib\\hplib_database.py:1559: RuntimeWarning: Mean of empty slice.\n",
      "  p4_COP_average=pd.unique(Group1['p4_COP [-]']).mean(0)\n"
     ]
    }
   ],
   "metadata": {}
  },
  {
   "cell_type": "code",
   "execution_count": 3,
   "source": [
    "#Reduce to unique heat pump models\r\n",
    "db.ReduceToUnique()\r\n",
    "# -> this overwrites the hplib_database.csv"
   ],
   "outputs": [],
   "metadata": {}
  },
  {
   "cell_type": "markdown",
   "source": [
    "## Usage for simulation"
   ],
   "metadata": {}
  },
  {
   "cell_type": "code",
   "execution_count": null,
   "source": [
    "# Have a look into the hplib database\r\n",
    "database = hpl.loadDatabase()\r\n",
    "database"
   ],
   "outputs": [],
   "metadata": {}
  },
  {
   "cell_type": "code",
   "execution_count": 3,
   "source": [
    "# Define a specific heatpump model and get parameters\r\n",
    "parameters = hpl.getParameters('LW 101')\r\n",
    "parameters"
   ],
   "outputs": [
    {
     "output_type": "execute_result",
     "data": {
      "text/html": [
       "<div>\n",
       "<style scoped>\n",
       "    .dataframe tbody tr th:only-of-type {\n",
       "        vertical-align: middle;\n",
       "    }\n",
       "\n",
       "    .dataframe tbody tr th {\n",
       "        vertical-align: top;\n",
       "    }\n",
       "\n",
       "    .dataframe thead th {\n",
       "        text-align: right;\n",
       "    }\n",
       "</style>\n",
       "<table border=\"1\" class=\"dataframe\">\n",
       "  <thead>\n",
       "    <tr style=\"text-align: right;\">\n",
       "      <th></th>\n",
       "      <th>Model</th>\n",
       "      <th>P_th_ref [W]</th>\n",
       "      <th>P_el_ref [W]</th>\n",
       "      <th>COP_ref</th>\n",
       "      <th>Group</th>\n",
       "      <th>p1_P_th [1/°C]</th>\n",
       "      <th>p2_P_th [1/°C]</th>\n",
       "      <th>p3_P_th [-]</th>\n",
       "      <th>p4_P_th [1/°C]</th>\n",
       "      <th>p1_P_el [1/°C]</th>\n",
       "      <th>p2_P_el [1/°C]</th>\n",
       "      <th>p3_P_el [-]</th>\n",
       "      <th>p4_P_el [1/°C]</th>\n",
       "      <th>p1_COP [-]</th>\n",
       "      <th>p2_COP [-]</th>\n",
       "      <th>p3_COP [-]</th>\n",
       "      <th>p4_COP [-]</th>\n",
       "    </tr>\n",
       "  </thead>\n",
       "  <tbody>\n",
       "    <tr>\n",
       "      <th>0</th>\n",
       "      <td>LW 101</td>\n",
       "      <td>6980.0</td>\n",
       "      <td>3438.0</td>\n",
       "      <td>2.03</td>\n",
       "      <td>4.0</td>\n",
       "      <td>-142.579084</td>\n",
       "      <td>-0.002969</td>\n",
       "      <td>1.393078</td>\n",
       "      <td>142.612651</td>\n",
       "      <td>-9.058103</td>\n",
       "      <td>0.012821</td>\n",
       "      <td>0.32406</td>\n",
       "      <td>9.058905</td>\n",
       "      <td>286.106593</td>\n",
       "      <td>-0.054626</td>\n",
       "      <td>5.406234</td>\n",
       "      <td>-286.015079</td>\n",
       "    </tr>\n",
       "  </tbody>\n",
       "</table>\n",
       "</div>"
      ],
      "text/plain": [
       "    Model  P_th_ref [W]  P_el_ref [W]  COP_ref  Group  p1_P_th [1/°C]  \\\n",
       "0  LW 101        6980.0        3438.0     2.03    4.0     -142.579084   \n",
       "\n",
       "   p2_P_th [1/°C]  p3_P_th [-]  p4_P_th [1/°C]  p1_P_el [1/°C]  \\\n",
       "0       -0.002969     1.393078      142.612651       -9.058103   \n",
       "\n",
       "   p2_P_el [1/°C]  p3_P_el [-]  p4_P_el [1/°C]  p1_COP [-]  p2_COP [-]  \\\n",
       "0        0.012821      0.32406        9.058905  286.106593   -0.054626   \n",
       "\n",
       "   p3_COP [-]  p4_COP [-]  \n",
       "0    5.406234 -286.015079  "
      ]
     },
     "metadata": {},
     "execution_count": 3
    }
   ],
   "metadata": {}
  },
  {
   "cell_type": "code",
   "execution_count": 5,
   "source": [
    "# Alternatively, define a \"Generic\" heatpump model and get parameters\r\n",
    "# For every Group ID there is a parameter set which represents an average heatpump of its group\r\n",
    "# Please define the Type \"Generic\", the Group ID (1-9) and P_th_ref in W\r\n",
    "parameters = hpl.getParameters('Generic',Group=1, T_in=0, T_out=40, P_th=10000)\r\n",
    "parameters"
   ],
   "outputs": [
    {
     "output_type": "execute_result",
     "data": {
      "text/html": [
       "<div>\n",
       "<style scoped>\n",
       "    .dataframe tbody tr th:only-of-type {\n",
       "        vertical-align: middle;\n",
       "    }\n",
       "\n",
       "    .dataframe tbody tr th {\n",
       "        vertical-align: top;\n",
       "    }\n",
       "\n",
       "    .dataframe thead th {\n",
       "        text-align: right;\n",
       "    }\n",
       "</style>\n",
       "<table border=\"1\" class=\"dataframe\">\n",
       "  <thead>\n",
       "    <tr style=\"text-align: right;\">\n",
       "      <th></th>\n",
       "      <th>Model</th>\n",
       "      <th>P_th_ref [W]</th>\n",
       "      <th>P_el_ref [W]</th>\n",
       "      <th>COP_ref</th>\n",
       "      <th>Group</th>\n",
       "      <th>p1_P_th [1/°C]</th>\n",
       "      <th>p2_P_th [1/°C]</th>\n",
       "      <th>p3_P_th [-]</th>\n",
       "      <th>p4_P_th [1/°C]</th>\n",
       "      <th>p1_P_el [1/°C]</th>\n",
       "      <th>p2_P_el [1/°C]</th>\n",
       "      <th>p3_P_el [-]</th>\n",
       "      <th>p4_P_el [1/°C]</th>\n",
       "      <th>p1_COP [-]</th>\n",
       "      <th>p2_COP [-]</th>\n",
       "      <th>p3_COP [-]</th>\n",
       "      <th>p4_COP [-]</th>\n",
       "    </tr>\n",
       "  </thead>\n",
       "  <tbody>\n",
       "    <tr>\n",
       "      <th>0</th>\n",
       "      <td>Generic</td>\n",
       "      <td>6968.475639</td>\n",
       "      <td>4978.84474</td>\n",
       "      <td>1.399617</td>\n",
       "      <td>1.0</td>\n",
       "      <td>67.415115</td>\n",
       "      <td>-0.003619</td>\n",
       "      <td>0.919535</td>\n",
       "      <td>-67.445192</td>\n",
       "      <td>68.738396</td>\n",
       "      <td>0.009449</td>\n",
       "      <td>0.190328</td>\n",
       "      <td>-68.769238</td>\n",
       "      <td>46.08128</td>\n",
       "      <td>-0.087983</td>\n",
       "      <td>7.053688</td>\n",
       "      <td>-45.927145</td>\n",
       "    </tr>\n",
       "  </tbody>\n",
       "</table>\n",
       "</div>"
      ],
      "text/plain": [
       "     Model  P_th_ref [W]  P_el_ref [W]   COP_ref  Group  p1_P_th [1/°C]  \\\n",
       "0  Generic   6968.475639    4978.84474  1.399617    1.0       67.415115   \n",
       "\n",
       "   p2_P_th [1/°C]  p3_P_th [-]  p4_P_th [1/°C]  p1_P_el [1/°C]  \\\n",
       "0       -0.003619     0.919535      -67.445192       68.738396   \n",
       "\n",
       "   p2_P_el [1/°C]  p3_P_el [-]  p4_P_el [1/°C]  p1_COP [-]  p2_COP [-]  \\\n",
       "0        0.009449     0.190328      -68.769238    46.08128   -0.087983   \n",
       "\n",
       "   p3_COP [-]  p4_COP [-]  \n",
       "0    7.053688  -45.927145  "
      ]
     },
     "metadata": {},
     "execution_count": 5
    }
   ],
   "metadata": {}
  },
  {
   "cell_type": "code",
   "execution_count": 9,
   "source": [
    "# Simulate on time step\r\n",
    "# Please define T_in_primary, T_in_secondary in °C and the parameters from the previous step \r\n",
    "# The T_in_secondary is supposed to be heated up by 5 K which then results in T_out\r\n",
    "# For a time series create a loop with the function\r\n",
    "P_th, P_el, COP, T_out, m_dot = hpl.simulate(0, 60, parameters)\r\n",
    "print('P_th: '+str(int(P_th))+' W')\r\n",
    "print('P_el: '+str(int(P_el))+' W')\r\n",
    "print('COP: '+str(round(COP,3)))"
   ],
   "outputs": [
    {
     "output_type": "stream",
     "name": "stdout",
     "text": [
      "P_th: 5346 W\n",
      "P_el: 4005 W\n",
      "COP: 1.335\n"
     ]
    }
   ],
   "metadata": {}
  },
  {
   "cell_type": "markdown",
   "source": [
    "**Very important:** With the Fit-Parameters p1-p3 for P_th, P_el and COP it is possible to calculate the results with the following methods:\n",
    "\n",
    "1. P_th and P_el with Fit-Functions and `COP = P_th / P_el`\n",
    "2. P_th and COP with Fit-Functions and `P_el = P_th / COP`\n",
    "3. P_el and COP with Fut-Functions and `P_th = P_el * COP`\n",
    "\n",
    "While the model by Schwarmberger et. al. uses the 1. method, our validation showed, that the 3. method results in better results. Therefore we decided to implement this in the `simulate` definition."
   ],
   "metadata": {}
  },
  {
   "cell_type": "markdown",
   "source": [
    "## Examples"
   ],
   "metadata": {}
  },
  {
   "cell_type": "markdown",
   "source": [
    "**Schematic plotting** of COP, P_el and P_th for an generic air/water heat pump: subtype = **On-Off** "
   ],
   "metadata": {}
  },
  {
   "cell_type": "code",
   "execution_count": 17,
   "source": [
    "# Define Temperatures\r\n",
    "T_in_primary = range(-20, 31) # air temperatur\r\n",
    "T_in_secondary = range(20,56) # e.g. temperature from hot water storage\r\n",
    "\r\n",
    "# Load parameters of Generic Air/Water, On-Off\r\n",
    "parameters = hpl.getParameters('Generic',Group=2, T_in=-7, T_out=52, P_th = 5000)\r\n",
    "\r\n",
    "# Simulate \r\n",
    "names = ['T_in_primary','P_th', 'P_el', 'COP', 'T_out', 'm_dot']\r\n",
    "data = []\r\n",
    "\r\n",
    "for t1 in T_in_primary:\r\n",
    "    for t2 in T_in_secondary:\r\n",
    "        P_th, P_el, COP, T_out, m_dot = hpl.simulate(0, t2, parameters,t1)\r\n",
    "        data.append([t1, P_th, P_el, COP, T_out, m_dot])\r\n",
    "\r\n",
    "results = pd.DataFrame(data, columns=names)\r\n",
    "\r\n",
    "# Plot COP\r\n",
    "fig1, ax1 = plt.subplots()\r\n",
    "plot = plt.tricontourf(results['T_in_primary'], results['T_out'], results['COP'])\r\n",
    "ax1.tricontour(results['T_in_primary'], results['T_out'], results['COP'], colors='k')\r\n",
    "fig1.colorbar(plot)\r\n",
    "ax1.set_title('COP')\r\n",
    "ax1.set_xlabel('Primary input temperature [°C]')\r\n",
    "ax1.set_ylabel('Secondary output temperature [°C]')\r\n",
    "fig1.show\r\n",
    "\r\n",
    "# Plot electrical input power\r\n",
    "fig1, ax1 = plt.subplots()\r\n",
    "plot = plt.tricontourf(results['T_in_primary'], results['T_out'], results['P_el'])\r\n",
    "ax1.tricontour(results['T_in_primary'], results['T_out'], results['P_el'], colors='k')\r\n",
    "fig1.colorbar(plot)\r\n",
    "ax1.set_title('Eletrical input power [W]')\r\n",
    "ax1.set_xlabel('Primary input temperature [°C]')\r\n",
    "ax1.set_ylabel('Secondary output temperature [°C]')\r\n",
    "fig1.show\r\n",
    "\r\n",
    "# Plot thermal output power\r\n",
    "fig1, ax1 = plt.subplots()\r\n",
    "plot = plt.tricontourf(results['T_in_primary'], results['T_out'], results['P_th'])\r\n",
    "ax1.tricontour(results['T_in_primary'], results['T_out'], results['P_th'], colors='k')\r\n",
    "fig1.colorbar(plot)\r\n",
    "ax1.set_title('Thermal output power [W]')\r\n",
    "ax1.set_xlabel('Primary input temperature [°C]')\r\n",
    "ax1.set_ylabel('Secondary output temperature [°C]')\r\n",
    "fig1.show"
   ],
   "outputs": [
    {
     "output_type": "execute_result",
     "data": {
      "text/plain": [
       "<bound method Figure.show of <Figure size 432x288 with 2 Axes>>"
      ]
     },
     "metadata": {},
     "execution_count": 17
    },
    {
     "output_type": "display_data",
     "data": {
      "image/png": "[encoded data removed]",
      "text/plain": [
       "<Figure size 432x288 with 2 Axes>"
      ]
     },
     "metadata": {
      "needs_background": "light"
     }
    },
    {
     "output_type": "display_data",
     "data": {
      "image/png": "[encoded data removed]",
      "text/plain": [
       "<Figure size 432x288 with 2 Axes>"
      ]
     },
     "metadata": {
      "needs_background": "light"
     }
    },
    {
     "output_type": "display_data",
     "data": {
      "image/png": "[encoded data removed]",
      "text/plain": [
       "<Figure size 432x288 with 2 Axes>"
      ]
     },
     "metadata": {
      "needs_background": "light"
     }
    }
   ],
   "metadata": {}
  },
  {
   "cell_type": "code",
   "execution_count": null,
   "source": [
    "T_in_primary = [-7,2,7,12] # air temperatur\r\n",
    "T_in_secondary = range(20,56) # e.g. temperature from hot water storage\r\n",
    "\r\n",
    "# Load parameters of Generic Air/Water, On-Off\r\n",
    "parameters = hpl.getParameters('WPE-I 87 H 400 Premium')#'Generic',Group=2, T_in=-7, T_out=52, P_th = 5000)\r\n",
    "\r\n",
    "# Simulate \r\n",
    "names = ['T_in_primary','P_th', 'P_el', 'COP', 'T_out', 'm_dot']\r\n",
    "data = []\r\n",
    "\r\n",
    "for t1 in T_in_primary:\r\n",
    "    for t2 in T_in_secondary:\r\n",
    "        P_th, P_el, COP, T_out, m_dot = hpl.simulate(0, t2,t1, parameters)\r\n",
    "        data.append([t1, P_th, P_el, COP, T_out, m_dot])\r\n",
    "\r\n",
    "results = pd.DataFrame(data, columns=names)"
   ],
   "outputs": [],
   "metadata": {}
  },
  {
   "cell_type": "code",
   "execution_count": null,
   "source": [
    "results"
   ],
   "outputs": [],
   "metadata": {}
  },
  {
   "cell_type": "code",
   "execution_count": null,
   "source": [],
   "outputs": [],
   "metadata": {}
  }
 ],
 "metadata": {
  "interpreter": {
   "hash": "1c4c526e93e8287540b24b192ade22dda43c6f2790b410e79d9bb5a13eace6d2"
  },
  "kernelspec": {
   "name": "python3",
   "display_name": "Python 3.8.5 64-bit ('base': conda)"
  },
  "language_info": {
   "codemirror_mode": {
    "name": "ipython",
    "version": 3
   },
   "file_extension": ".py",
   "mimetype": "text/x-python",
   "name": "python",
   "nbconvert_exporter": "python",
   "pygments_lexer": "ipython3",
   "version": "3.8.5"
  },
  "orig_nbformat": 4
 },
 "nbformat": 4,
 "nbformat_minor": 2
}