{
 "cells": [
  {
   "cell_type": "markdown",
   "source": [
    "# Documentation for the creation and usage of the heat pump library (hplib)"
   ],
   "metadata": {}
  },
  {
   "cell_type": "markdown",
   "source": [
    "1. [Definitions](#definitions)\n",
    "2. [Database preperation](#database-preparation)\n",
    "3. [Work with database](#work-with-database)\n",
    "    1. [Load database](#load-database)\n",
    "    2. [Load specific model](#load-specific-model)\n",
    "    3. [Load generic model](#load-generic-model)\n",
    "4. [How to simulate](#how-to-simulate)\n",
    "    1. [Simulate on time step](#simulate-one-timestep)\n",
    "    2. [Simulate a time series](#simulate-a-timeseries)\n",
    "5. [Example heat pump](#example-heat-pump)\n",
    "6. [Validation](#validation)\n",
    "    1. [Air/Water | on/off](#air-water-onoff)\n",
    "    2. [Brine/Water | on/off](#brine-water-onoff)\n",
    "    3. [Water/Water | on/off](#water-water-onoff)\n",
    "    4. [Air/Water | regulated](#air-water-regulated)\n",
    "    5. [Brine/Water | regulated](#brine-water-regulated)\n",
    "7. [Conclusion](#conclusion)"
   ],
   "metadata": {}
  },
  {
   "cell_type": "code",
   "execution_count": 1,
   "source": [
    "import hplib as hpl\r\n",
    "import hplib_database as db\r\n",
    "import pandas as pd\r\n",
    "import matplotlib.pyplot as plt\r\n",
    "import warnings\r\n",
    "warnings.filterwarnings(\"ignore\")\r\n",
    "os.chdir(\"../\")"
   ],
   "outputs": [],
   "metadata": {}
  },
  {
   "cell_type": "code",
   "execution_count": 3,
   "source": [
    "%%html\r\n",
    "<style>\r\n",
    "table {float:left}\r\n",
    "</style>"
   ],
   "outputs": [
    {
     "output_type": "display_data",
     "data": {
      "text/html": [
       "<style>\n",
       "table {float:left}\n",
       "</style>\n"
      ],
      "text/plain": [
       "<IPython.core.display.HTML object>"
      ]
     },
     "metadata": {}
    }
   ],
   "metadata": {}
  },
  {
   "cell_type": "markdown",
   "source": [
    "## **1. Definitions** <a class=\"anchor\" id=\"definitions\" name=\"definitions\"></a>\n",
    "\n",
    "**Abbreviations**\n",
    "\n",
    "| Abbreviation | Meaning |\n",
    "| :--- | :--- |\n",
    "| P_th | Thermal output power in W |\n",
    "| P_el | Electical input Power in W |\n",
    "| COP | Coefficient of performance |\n",
    "| T_in | Input temperature in °C at primary side of the heat pump |\n",
    "| T_out | Output temperature in °C at secondary side of the heat pump |\n",
    "| T_amb | Ambient temperature in °C |\n",
    "| P_th_ref | Thermal output power in W at T_in = -7 °C and T_out = 52 °C |\n",
    "| P_el_ref | Elecrical output power in W at T_in = -7 °C and T_out = 52 °C |\n",
    "| COP_ref | Coefficient of performance at T_in = -7 °C and T_out = 52 °C |\n",
    "| p1-p4 | Fit-Parameters for Fit-Function |\n"
   ],
   "metadata": {}
  },
  {
   "cell_type": "markdown",
   "source": [
    "\n",
    "**Group IDs**\n",
    "\n",
    "| Group ID | Type | Subtype |\n",
    "| :--- | :--- | :--- |\n",
    "| 1 | Outdoor Air / Water | Regulated | \n",
    "| 2 | Brine / Water | Regulated | \n",
    "| 3 | Water / Water | Regulated | \n",
    "| 4 | Outdoor Air / Water | On-Off | \n",
    "| 5 | Brine / Water | On-Off | \n",
    "| 6 | Water / Water | On-Off |"
   ],
   "metadata": {}
  },
  {
   "cell_type": "markdown",
   "source": [
    "## **2. Database preparation** <a class=\"anchor\" id=\"database-preparation\" name=\"database-preparation\"></a>\n",
    "\n",
    "This section is only for documentation regarding the development of the final database. It's not neccesary to run this code again.\n",
    "\n",
    "1. we downloaded all manufacturer data from https://keymark.eu/en/products/heatpumps/certified-products .\n",
    "2. then we unzipped the files to the `input` folder and used the bash-skript `pdf2txt.sh` to convert pdf into txt.\n",
    "3. afterwards we used the following functions to create and extent the heatpump keymark database."
   ],
   "metadata": {}
  },
  {
   "cell_type": "code",
   "execution_count": 4,
   "source": [
    "# Import keymark data and save to csv database\r\n",
    "db.import_keymark_data()\r\n",
    "# -> this creates /output/database_keymark.csv"
   ],
   "outputs": [],
   "metadata": {}
  },
  {
   "cell_type": "code",
   "execution_count": 2,
   "source": [
    "#keymark data and save to csv database\r\n",
    "db.import_cooling_data()\r\n",
    "# -> this creates /output/database_cooling_keymark.csv"
   ],
   "outputs": [],
   "metadata": {}
  },
  {
   "cell_type": "code",
   "execution_count": null,
   "source": [
    "# Reduce to climate measurement series with average climate, delete redundant entries and save to csv sub-database\r\n",
    "db.reduce_keymark_data('database_keymark.csv','average')\r\n",
    "# -> this creates /output/database_keymark_average.csv"
   ],
   "outputs": [],
   "metadata": {}
  },
  {
   "cell_type": "code",
   "execution_count": null,
   "source": [
    "# Normalize electrical and thermal power from the keymark database to values from setpoint T_in = -7 °C and T_out = 52 °C\r\n",
    "db.normalize_keymark_data('database_keymark_average.csv')\r\n",
    "# -> this creates /output/database_keymark_average_normalized.csv"
   ],
   "outputs": [],
   "metadata": {}
  },
  {
   "cell_type": "code",
   "execution_count": null,
   "source": [
    "# Identify subtypes like on-off or regulated heat pumps and assign group id depending on its type and subtype\r\n",
    "db.identify_subtypes('database_keymark_average_normalized.csv')\r\n",
    "# -> this creates /output/database_keymark_average_normalized_subtypes.csv"
   ],
   "outputs": [],
   "metadata": {}
  },
  {
   "cell_type": "code",
   "execution_count": null,
   "source": [
    "# Calculate parameters p1-p4 for P_th, P_el and COP with a least-square fit approach\r\n",
    "# based on  K. Schwamberger: „Modellbildung und Regelung von Gebäudeheizungsanlagen \r\n",
    "# mit Wärmepumpen“, VDI Verlag, Düsseldorf, Fortschrittsberichte VDI Reihe 6 Nr. 263, 1991.\r\n",
    "db.calculate_function_parameters('database_keymark_average_normalized_subtypes.csv')\r\n",
    "# -> this creates the final hplib_database.csv"
   ],
   "outputs": [],
   "metadata": {}
  },
  {
   "cell_type": "code",
   "execution_count": null,
   "source": [
    "# Many heat pump models have redundant entries because of different controller or storage configurations.\r\n",
    "# Reduce to unique heat pump models.\r\n",
    "db.reduce_to_unique()\r\n",
    "# -> this overwrites the hplib_database.csv"
   ],
   "outputs": [],
   "metadata": {}
  },
  {
   "cell_type": "code",
   "execution_count": null,
   "source": [
    "# Calculate the relative error (RE) for each set point of every heat pump\r\n",
    "db.validation_relative_error()\r\n",
    "# -> this creates /output/database_keymark_average_normalized_subtypes_validation.csv"
   ],
   "outputs": [],
   "metadata": {}
  },
  {
   "cell_type": "code",
   "execution_count": null,
   "source": [
    "# Calculate the mean absolute percentage error (MAPE) for every heat pump\r\n",
    "db.validation_mape()\r\n",
    "# -> this overwrites the hplib_database.csv"
   ],
   "outputs": [],
   "metadata": {}
  },
  {
   "cell_type": "code",
   "execution_count": null,
   "source": [
    "# Calculate generic heat pump models for each group id\r\n",
    "db.add_generic()\r\n",
    "# -> this overwrites the hplib_database.csv"
   ],
   "outputs": [],
   "metadata": {}
  },
  {
   "cell_type": "code",
   "execution_count": 3,
   "source": [
    "#Only use heatpumps which are also in the heating library\r\n",
    "db.reduce_cooling_data()\r\n",
    "#this generates /output/database_cooling_reduced.csv"
   ],
   "outputs": [],
   "metadata": {}
  },
  {
   "cell_type": "markdown",
   "source": [
    "**Hint:** The csv files in the `output` folder are for documentation and validation purpose. The code `hplib.py` and database `hplib_database` files, which are meant to be used for simulations, are located in the `src` folder. "
   ],
   "metadata": {}
  },
  {
   "cell_type": "markdown",
   "source": [
    "## **3. Work with database** <a class=\"anchor\" id=\"work-with-database\" name=\"work-with-database\"></a>"
   ],
   "metadata": {}
  },
  {
   "cell_type": "markdown",
   "source": [
    "### **3.1 Load database**  <a class=\"anchor\" id=\"load-database\" name=\"load-database\"></a>\n",
    "\n",
    "Simply execute the command without arguments and you will get a DataFrame with the complete list of manufacturers and models. Now you are able to view, filter or sort the database."
   ],
   "metadata": {}
  },
  {
   "cell_type": "code",
   "execution_count": null,
   "source": [
    "database = hpl.load_database()\r\n",
    "database"
   ],
   "outputs": [],
   "metadata": {}
  },
  {
   "cell_type": "markdown",
   "source": [
    "### **3.2 Load specific model**  <a class=\"anchor\" id=\"load-specific-model\" name=\"load-specific-model\"></a>\n",
    "\n",
    "To get the parameters of a specific heat pump model, use the `get_parameters()` method with a specific Model name from the database.\n",
    "You will get a DataFrame with all parameters including the mean absolute percentage errors (MAPE) for this model."
   ],
   "metadata": {}
  },
  {
   "cell_type": "code",
   "execution_count": null,
   "source": [
    "parameters = hpl.get_parameters('i-SHWAK V4 06')\r\n",
    "parameters"
   ],
   "outputs": [],
   "metadata": {}
  },
  {
   "cell_type": "markdown",
   "source": [
    "### **3.3 Load generic model**  <a class=\"anchor\" id=\"load-generic-model\" name=\"load-generic-model\"></a>\n",
    "\n",
    "To get the parameters of a generic heat pump model, use the `get_parameters()` method with the following keyword arguments of a free choosen set point\n",
    "\n",
    "* model='Generic'\n",
    "* group_id: 1,2,4,5,6\n",
    "* t_in: choose primary input temperature in °C\n",
    "* t_out: choose secondary output temperature in °C\n",
    "* p_th: choose thermal output power in W\n",
    "\n",
    "You will get a DataFrame with all parameters for this generic model. For every group id the parameter set is based on the average parameters of all heat pumps of its group with an MAPE of less than 25%."
   ],
   "metadata": {}
  },
  {
   "cell_type": "code",
   "execution_count": null,
   "source": [
    "parameters = hpl.get_parameters(model='Generic', group_id=1, t_in=-7, t_out=52, p_th=10000)\r\n",
    "parameters"
   ],
   "outputs": [],
   "metadata": {}
  },
  {
   "cell_type": "markdown",
   "source": [
    "## **4. How to simulate** <a class=\"anchor\" id=\"how-to-simulate\" name=\"how-to-simulate\"></a>\n",
    "\n",
    "With the Fit-Parameters p1-p4 for P_th, P_el and COP it is possible to calculate the results with the following methods:\n",
    "\n",
    "1. P_th and P_el with Fit-Functions and `COP = P_th / P_el` or\n",
    "2. P_th and COP with Fit-Functions and `P_el = P_th / COP` or\n",
    "3. P_el and COP with Fut-Functions and `P_th = P_el * COP`\n",
    "\n",
    "While the model by Schwarmberger [1] uses the first method, our validation showed, that the third method leads to better results. Therefore we decided to implement this in the `simulate` definition."
   ],
   "metadata": {}
  },
  {
   "cell_type": "markdown",
   "source": [
    "### **4.1 Simulate one timestep**  <a class=\"anchor\" id=\"simulate-one-timestep\" name=\"simulate-one-timestep\"></a>\n",
    "\n",
    "Please define a primary input temperature (t_in_primary), secondary input temperature (t_in_secondary),\n",
    "ambient / outdoor temperature (t_amb) in °C and the parameters from the previous step. The t_in_secondary\n",
    "is supposed to be heated up by 5 K which then results in output temperature.\n",
    "\n",
    "Important:\n",
    "* for air / water heat pumps t_in_primary and t_amb are supposed to be the same values.\n",
    "* for brine / water or water / water heat pumps t_in_primary and t_amb are independent values."
   ],
   "metadata": {}
  },
  {
   "cell_type": "code",
   "execution_count": null,
   "source": [
    "results = hpl.simulate(t_in_primary=-7, t_in_secondary=47, parameters=parameters, t_amb=-7)\r\n",
    "results"
   ],
   "outputs": [],
   "metadata": {}
  },
  {
   "cell_type": "markdown",
   "source": [
    "### **4.2 Simulate a timeseries**  <a class=\"anchor\" id=\"simulate-a-timeseries\" name=\"simulate-a-timeseries\"></a>\n",
    "\n",
    "The simulation approach is the same as for one timestep. For a timeseries your are allowed\n",
    "to define pandas.Series or arrays as input values. It is also possible to combine single values \n",
    "and pandas.Series / arrays.\n",
    "\n",
    "*The next example uses a measured timeseries for ambient / outdoor temperature and secondary \n",
    "input temperature of a real heating system to demonstrate the simulation approach. The data represents\n",
    "on year and has a temporal resolution of 1 minute*"
   ],
   "metadata": {}
  },
  {
   "cell_type": "code",
   "execution_count": null,
   "source": [
    "df = pd.read_csv('../input/TestYear.csv')\r\n",
    "df['T_amb'] = df['T_in_primary'] # air/water heat pump -> T_amb = T_in_primary\r\n",
    "results = hpl.simulate(t_in_primary=df['T_in_primary'], t_in_secondary=df['T_in_secondary'], parameters=parameters, t_amb=df['T_amb'])\r\n",
    "# Plot / Print some results\r\n",
    "# example for distribution of COPs\r\n",
    "results['COP'].plot.hist(bins=50, title='Distribution of COP values') \r\n",
    "# Calclulate seasonal performance factor (SPF)\r\n",
    "SPF = results['P_th'].mean() / results['P_el'].mean() \r\n",
    "print('SPF = '+str(round(SPF,1)))"
   ],
   "outputs": [],
   "metadata": {}
  },
  {
   "cell_type": "markdown",
   "source": [
    "## **5. Example heat pump** <a class=\"anchor\" id=\"example-heat-pump\" name=\"example-heat-pump\"></a>\n",
    "\n",
    "**Schematic plot** of COP, P_el and P_th for an **generic air/water** heat pump: subtype = **On-Off** "
   ],
   "metadata": {}
  },
  {
   "cell_type": "code",
   "execution_count": null,
   "source": [
    "# Define Temperatures\r\n",
    "T_in_primary = range(-20,31)\r\n",
    "T_in_secondary = range(20,56)\r\n",
    "T_in = []\r\n",
    "T_out = []\r\n",
    "\r\n",
    "# Load parameters of generic air/water | on-off\r\n",
    "p = hpl.get_parameters('Generic', group_id=4, t_in=-7, t_out=52, p_th = 10000)\r\n",
    "\r\n",
    "# Create input series\r\n",
    "for t1 in T_in_primary:\r\n",
    "    for t2 in T_in_secondary:\r\n",
    "        T_in.append(t1)\r\n",
    "        T_out.append(t2)\r\n",
    "df=pd.DataFrame()\r\n",
    "df['T_in']=T_in\r\n",
    "df['T_out']=T_out\r\n",
    "\r\n",
    "# Simulation\r\n",
    "results = hpl.simulate(t_in_primary=df['T_in'], t_in_secondary=df['T_out'], parameters=p, t_amb=df['T_in'])\r\n",
    "\r\n",
    "# Plot COP\r\n",
    "fig1, ax1 = plt.subplots()\r\n",
    "plot = plt.tricontourf(results['T_in'], results['T_out'], results['COP'])\r\n",
    "ax1.tricontour(results['T_in'], results['T_out'], results['COP'], colors='k')\r\n",
    "fig1.colorbar(plot)\r\n",
    "ax1.set_title('COP')\r\n",
    "ax1.set_xlabel('Primary input temperature [°C]')\r\n",
    "ax1.set_ylabel('Secondary output temperature [°C]')\r\n",
    "fig1.show\r\n",
    "\r\n",
    "# Plot electrical input power\r\n",
    "fig1, ax1 = plt.subplots()\r\n",
    "plot = plt.tricontourf(results['T_in'], results['T_out'], results['P_el'])\r\n",
    "ax1.tricontour(results['T_in'], results['T_out'], results['P_el'], colors='k')\r\n",
    "fig1.colorbar(plot)\r\n",
    "ax1.set_title('Eletrical input power [W]')\r\n",
    "ax1.set_xlabel('Primary input temperature [°C]')\r\n",
    "ax1.set_ylabel('Secondary output temperature [°C]')\r\n",
    "fig1.show\r\n",
    "\r\n",
    "# Plot thermal output power\r\n",
    "fig1, ax1 = plt.subplots()\r\n",
    "plot = plt.tricontourf(results['T_in'], results['T_out'], results['P_th'])\r\n",
    "ax1.tricontour(results['T_in'], results['T_out'], results['P_th'], colors='k')\r\n",
    "fig1.colorbar(plot)\r\n",
    "ax1.set_title('Thermal output power [W]')\r\n",
    "ax1.set_xlabel('Primary input temperature [°C]')\r\n",
    "ax1.set_ylabel('Secondary output temperature [°C]')\r\n",
    "fig1.show"
   ],
   "outputs": [],
   "metadata": {}
  },
  {
   "cell_type": "markdown",
   "source": [
    "**COP**:\n",
    "* The COP goes up with higher primary input values. \n",
    "* The COP goes up with lower secondary output values.\n",
    "\n",
    "**P_el**:\n",
    "* The electrical input power is relativey constant for an on/off heatpump.\n",
    "* At low primary input and high secondary output temperatures the COP would fall below 1. In this case the a electric heating rod is assumed and the electrical power is set to the thermal power at set point -7/52 °C.\n",
    "\n",
    "**P_th**:\n",
    "* For this on/off air/water heat pump, the thermal power is mainly dependend von the primary input temperature. "
   ],
   "metadata": {}
  },
  {
   "cell_type": "markdown",
   "source": [
    "## **6. Validation** <a class=\"anchor\" id=\"validation\" name=\"validation\"></a>\n",
    "\n",
    "The following plots will give you a detailed view on the differences between simulation and measurement from heat pump keymark. Therefore, all set points for all heat pumps are loaded from the file `database_keymark_average_normalized_subtypes_validation.csv`."
   ],
   "metadata": {}
  },
  {
   "cell_type": "code",
   "execution_count": null,
   "source": [
    "df = pd.read_csv('../output/database_keymark_average_normalized_subtypes_validation.csv')"
   ],
   "outputs": [],
   "metadata": {}
  },
  {
   "cell_type": "markdown",
   "source": [
    "### **6.1 Air/Water | on/off** <a class=\"anchor\" id=\"air-water-onoff\" name=\"air-water-onoff\"></a>\n",
    "\n",
    "* The mean absolute percentage error (MAPE) over all heat pumps is\n",
    "    * 5.4 % for COP\n",
    "    * 2.5 % for P_el\n",
    "    * 5.8 % for P_th\n",
    "* The errors come from deviation mostly at low ambient / outside temperatures"
   ],
   "metadata": {}
  },
  {
   "cell_type": "code",
   "execution_count": null,
   "source": [
    "# Plot relative error for all heat pumps of type air/water | on-off\r\n",
    "Group = 4\r\n",
    "data = df.loc[(df['Group']==Group)]\r\n",
    "data = data[['T_amb [°C]','RE_COP', 'RE_P_el', 'RE_P_th']]\r\n",
    "ax = data.boxplot(by='T_amb [°C]', layout=(1,3), figsize=(10,5), showfliers=False)\r\n",
    "ax[0].set_ylim(-60,60)\r\n",
    "ax[0].set_ylabel('relative error in %')\r\n",
    "data.abs().mean()[1:4] # mean absolute percentage error (MAPE)"
   ],
   "outputs": [],
   "metadata": {}
  },
  {
   "cell_type": "code",
   "execution_count": null,
   "source": [
    "# Plot absolute values all heat pumps of type air/water | on-off as scatter plot\r\n",
    "Group = 4\r\n",
    "fig, ax = plt.subplots(1,3)\r\n",
    "data = df.loc[(df['Group']==Group)]\r\n",
    "data.plot.scatter(ax=ax[0], x='COP',y='COP_sim', alpha=0.3, figsize=(12,5), grid=True, title='Coefficient of performance')\r\n",
    "data.plot.scatter(ax=ax[1], x='P_el [W]',y='P_el_sim', alpha=0.3, figsize=(15,5), grid=True, title='Electrical input power [W]')\r\n",
    "data.plot.scatter(ax=ax[2], x='P_th [W]',y='P_th_sim', alpha=0.3, figsize=(15,5), grid=True, title='Thermal output power [W]')\r\n",
    "ax[0].set_xlim(0,10)\r\n",
    "ax[0].set_ylim(0,10)\r\n",
    "ax[1].set_xlim(0,20000)\r\n",
    "ax[1].set_ylim(0,20000)\r\n",
    "ax[2].set_xlim(0,50000)\r\n",
    "ax[2].set_ylim(0,50000)"
   ],
   "outputs": [],
   "metadata": {}
  },
  {
   "cell_type": "markdown",
   "source": [
    "### **6.2 Brine/Water | on/off** <a class=\"anchor\" id=\"brine-water-onoff\" name=\"brine-water-onoff\"></a>\n",
    "\n",
    "* The mean absolute percentage error (MAPE) over all heat pumps is\n",
    "    * 3.9 % for COP\n",
    "    * 1.7 % for P_el\n",
    "    * 2.7 % for P_th\n",
    "* **Important**: Validation data is only available at primary input temperature of 0 °C.  "
   ],
   "metadata": {}
  },
  {
   "cell_type": "code",
   "execution_count": null,
   "source": [
    "# Plot relative error for all heat pumps of type brine/water | on-off\r\n",
    "Group = 5\r\n",
    "data = df.loc[(df['Group']==Group)]\r\n",
    "data = data[['T_amb [°C]','RE_COP', 'RE_P_el', 'RE_P_th']]\r\n",
    "ax = data.boxplot(by='T_amb [°C]', layout=(1,3), figsize=(10,5), showfliers=False)\r\n",
    "ax[0].set_ylim(-60,60)\r\n",
    "ax[0].set_ylabel('relative error in %')\r\n",
    "data.abs().mean()[1:4] # mean absolute percentage error (MAPE)"
   ],
   "outputs": [],
   "metadata": {}
  },
  {
   "cell_type": "code",
   "execution_count": null,
   "source": [
    "# Plot absolute values all heat pumps of type brine/water | on-off as scatter plot\r\n",
    "Group = 5\r\n",
    "fig, ax = plt.subplots(1,3)\r\n",
    "data = df.loc[(df['Group']==Group)]\r\n",
    "data.plot.scatter(ax=ax[0], x='COP',y='COP_sim', alpha=0.3, figsize=(12,5), grid=True, title='Coefficient of performance')\r\n",
    "data.plot.scatter(ax=ax[1], x='P_el [W]',y='P_el_sim', alpha=0.3, figsize=(15,5), grid=True, title='Electrical input power [W]')\r\n",
    "data.plot.scatter(ax=ax[2], x='P_th [W]',y='P_th_sim', alpha=0.3, figsize=(15,5), grid=True, title='Thermal output power [W]')\r\n",
    "ax[0].set_xlim(0,10)\r\n",
    "ax[0].set_ylim(0,10)\r\n",
    "ax[1].set_xlim(0,20000)\r\n",
    "ax[1].set_ylim(0,20000)\r\n",
    "ax[2].set_xlim(0,50000)\r\n",
    "ax[2].set_ylim(0,50000)"
   ],
   "outputs": [],
   "metadata": {}
  },
  {
   "cell_type": "markdown",
   "source": [
    "### **6.3 Water/Water | on/off** <a class=\"anchor\" id=\"water-water-onoff\" name=\"water-water-onoff\"></a>\n",
    "\n",
    "* The mean absolute percentage error (MAPE) over all heat pumps is\n",
    "    * 1.6 % for COP\n",
    "    * 1.6 % for P_el\n",
    "    * 2.4 % for P_th\n",
    "* **Important**: Validation data is only available at primary input temperature of 10 °C."
   ],
   "metadata": {}
  },
  {
   "cell_type": "code",
   "execution_count": null,
   "source": [
    "# Plot relative error for all heat pumps of type water/water | on-off\r\n",
    "Group = 6\r\n",
    "data = df.loc[(df['Group']==Group)]\r\n",
    "data = data[['T_amb [°C]','RE_COP', 'RE_P_el', 'RE_P_th']]\r\n",
    "ax = data.boxplot(by='T_amb [°C]', layout=(1,3), figsize=(10,5), showfliers=False)\r\n",
    "ax[0].set_ylim(-60,60)\r\n",
    "ax[0].set_ylabel('relative error in %')\r\n",
    "data.abs().mean()[1:4] # mean absolute percentage error (MAPE)"
   ],
   "outputs": [],
   "metadata": {}
  },
  {
   "cell_type": "code",
   "execution_count": null,
   "source": [
    "# Plot absolute values all heat pumps of type water/water | on-off as scatter plot\r\n",
    "Group = 6\r\n",
    "fig, ax = plt.subplots(1,3)\r\n",
    "data = df.loc[(df['Group']==Group)]\r\n",
    "data.plot.scatter(ax=ax[0], x='COP',y='COP_sim', alpha=0.3, figsize=(12,5), grid=True, title='Coefficient of performance')\r\n",
    "data.plot.scatter(ax=ax[1], x='P_el [W]',y='P_el_sim', alpha=0.3, figsize=(15,5), grid=True, title='Electrical input power [W]')\r\n",
    "data.plot.scatter(ax=ax[2], x='P_th [W]',y='P_th_sim', alpha=0.3, figsize=(15,5), grid=True, title='Thermal output power [W]')\r\n",
    "ax[0].set_xlim(0,10)\r\n",
    "ax[0].set_ylim(0,10)\r\n",
    "ax[1].set_xlim(0,20000)\r\n",
    "ax[1].set_ylim(0,20000)\r\n",
    "ax[2].set_xlim(0,50000)\r\n",
    "ax[2].set_ylim(0,50000)"
   ],
   "outputs": [],
   "metadata": {}
  },
  {
   "cell_type": "markdown",
   "source": [
    "### **6.4 Air/Water | regulated** <a class=\"anchor\" id=\"air-water-regulated\" name=\"air-water-regulated\"></a>\n",
    "\n",
    "* The mean absolute percentage error (MAPE) over all heat pumps is\n",
    "    * 12.1 % for COP\n",
    "    * 19.5 % for P_el\n",
    "    * 23.5 % for P_th\n",
    "* Because of different control strategies, the deviation over different heat pump models is much higher compared to on/off types. "
   ],
   "metadata": {}
  },
  {
   "cell_type": "code",
   "execution_count": null,
   "source": [
    "# Plot relative error for all heat pumps of type air/water | regulated\r\n",
    "Group = 1\r\n",
    "data = df.loc[(df['Group']==Group)]\r\n",
    "data = data[['T_amb [°C]','RE_COP', 'RE_P_el', 'RE_P_th']]\r\n",
    "ax = data.boxplot(by='T_amb [°C]', layout=(1,3), figsize=(10,5), showfliers=False)\r\n",
    "ax[0].set_ylim(-60,60)\r\n",
    "ax[0].set_ylabel('relative error in %')\r\n",
    "data.abs().mean()[1:4] # mean absolute percentage error (MAPE)"
   ],
   "outputs": [],
   "metadata": {}
  },
  {
   "cell_type": "code",
   "execution_count": null,
   "source": [
    "# Plot absolute values all heat pumps of type air/water | regulated as scatter plot\r\n",
    "Group = 1\r\n",
    "fig, ax = plt.subplots(1,3)\r\n",
    "data = df.loc[(df['Group']==Group)]\r\n",
    "data.plot.scatter(ax=ax[0], x='COP',y='COP_sim', alpha=0.3, figsize=(12,5), grid=True, title='Coefficient of performance')\r\n",
    "data.plot.scatter(ax=ax[1], x='P_el [W]',y='P_el_sim', alpha=0.1, figsize=(15,5), grid=True, title='Electrical input power [W]')\r\n",
    "data.plot.scatter(ax=ax[2], x='P_th [W]',y='P_th_sim', alpha=0.1, figsize=(15,5), grid=True, title='Thermal output power [W]')\r\n",
    "ax[0].set_xlim(0,10)\r\n",
    "ax[0].set_ylim(0,10)\r\n",
    "ax[1].set_xlim(0,20000)\r\n",
    "ax[1].set_ylim(0,20000)\r\n",
    "ax[2].set_xlim(0,50000)\r\n",
    "ax[2].set_ylim(0,50000)"
   ],
   "outputs": [],
   "metadata": {}
  },
  {
   "cell_type": "markdown",
   "source": [
    "### **6.5 Brine/Water | regulated** <a class=\"anchor\" id=\"brine-water-regulated\" name=\"brine-water-regulated\"></a>\n",
    "\n",
    "* The mean absolute percentage error (MAPE) is over all heat pumps is\n",
    "    * 4.2 % for COP\n",
    "    * 17.7 % for P_el\n",
    "    * 19.7 % for P_th\n",
    "* **Important**: Validation data is only available at primary input temperature of 0 °C.  \n",
    "* The errors come from deviation mostly at high ambient / outside temperatures.\n",
    "* Error of COP is very low compared to error of P_el."
   ],
   "metadata": {}
  },
  {
   "cell_type": "code",
   "execution_count": null,
   "source": [
    "# Plot relative error for all heat pumps of type brine/water | regulated\r\n",
    "Group = 2\r\n",
    "data = df.loc[(df['Group']==Group)]\r\n",
    "data = data[['T_amb [°C]','RE_COP', 'RE_P_el', 'RE_P_th']]\r\n",
    "ax = data.boxplot(by='T_amb [°C]', layout=(1,3), figsize=(10,5), showfliers=False)\r\n",
    "ax[0].set_ylim(-60,60)\r\n",
    "ax[0].set_ylabel('relative error in %')\r\n",
    "data.abs().mean()[1:4] # mean absolute percentage error (MAPE)"
   ],
   "outputs": [],
   "metadata": {}
  },
  {
   "cell_type": "code",
   "execution_count": null,
   "source": [
    "# Plot absolute values all heat pumps of type brine/water | regulated as scatter plot\r\n",
    "Group = 2\r\n",
    "fig, ax = plt.subplots(1,3)\r\n",
    "data = df.loc[(df['Group']==Group)]\r\n",
    "data.plot.scatter(ax=ax[0], x='COP',y='COP_sim', alpha=0.3, figsize=(12,5), grid=True, title='Coefficient of performance')\r\n",
    "data.plot.scatter(ax=ax[1], x='P_el [W]',y='P_el_sim', alpha=0.1, figsize=(15,5), grid=True, title='Electrical input power [W]')\r\n",
    "data.plot.scatter(ax=ax[2], x='P_th [W]',y='P_th_sim', alpha=0.1, figsize=(15,5), grid=True, title='Thermal output power [W]')\r\n",
    "ax[0].set_xlim(0,10)\r\n",
    "ax[0].set_ylim(0,10)\r\n",
    "ax[1].set_xlim(0,20000)\r\n",
    "ax[1].set_ylim(0,20000)\r\n",
    "ax[2].set_xlim(0,50000)\r\n",
    "ax[2].set_ylim(0,50000)"
   ],
   "outputs": [],
   "metadata": {}
  },
  {
   "cell_type": "markdown",
   "source": [
    "## **7. Conclusion** <a class=\"anchor\" id=\"conclusion\" name=\"conclusion\"></a>\n",
    "\n",
    "- On/Off heat pumps can be simulated very well (mean relative error < 6 %)\n",
    "- Regulated heat pumps show relative mean errors about 20 %, because of the non-linearity of electrical input power and COP regarding different primary / secondary temperatures\n",
    "- Despite of that, generic heat pumps should work well, because the median shows only a small relative error"
   ],
   "metadata": {}
  }
 ],
 "metadata": {
  "interpreter": {
   "hash": "1c4c526e93e8287540b24b192ade22dda43c6f2790b410e79d9bb5a13eace6d2"
  },
  "kernelspec": {
   "name": "python3",
   "display_name": "Python 3.8.5 64-bit (conda)"
  },
  "language_info": {
   "codemirror_mode": {
    "name": "ipython",
    "version": 3
   },
   "file_extension": ".py",
   "mimetype": "text/x-python",
   "name": "python",
   "nbconvert_exporter": "python",
   "pygments_lexer": "ipython3",
   "version": "3.8.5"
  }
 },
 "nbformat": 4,
 "nbformat_minor": 2
}