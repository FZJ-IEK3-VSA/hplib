{
 "cells": [
  {
   "cell_type": "markdown",
   "source": [
    "# Create Database from Heatpump Keymark\r\n",
    "## 1) download from https://keymark.eu/en/products/heatpumps/certified-products\r\n",
    "## 2) use dash-skript to convert pdf into txt\r\n",
    "## 3) use this skript:\r\n",
    "\r\n",
    "\r\n"
   ],
   "metadata": {}
  },
  {
   "cell_type": "code",
   "execution_count": 1,
   "source": [
    "import hplib\r\n",
    "import simulate"
   ],
   "outputs": [],
   "metadata": {}
  },
  {
   "cell_type": "code",
   "execution_count": 2,
   "source": [
    "# Import keymark data and save to csv database\r\n",
    "hplib.ImportKeymarkData()"
   ],
   "outputs": [],
   "metadata": {}
  },
  {
   "cell_type": "code",
   "execution_count": 4,
   "source": [
    "# Reduce to climate measurement series and delete redunent entries and save to csv sub-database\r\n",
    "hplib.ReduceKeymarkData('database_keymark.csv','average')"
   ],
   "outputs": [],
   "metadata": {}
  },
  {
   "cell_type": "code",
   "execution_count": 5,
   "source": [
    "# Normalize electrical and thermal power from the keymark database to values from setpoint T_in = -7 °C and T_out = 52 °C\r\n",
    "hplib.NormalizeKeymarkData('database_keymark_average.csv')"
   ],
   "outputs": [],
   "metadata": {}
  },
  {
   "cell_type": "code",
   "execution_count": 6,
   "source": [
    "#Get modus like On-Off, Inverter and 2-stages Heatpump\r\n",
    "hplib.GetModusforeveryModel('database_keymark_average_normalized.csv')"
   ],
   "outputs": [],
   "metadata": {}
  },
  {
   "cell_type": "code",
   "execution_count": 7,
   "source": [
    "#Every Heatpump gets a modus depending on its modus and Type\r\n",
    "hplib.AssignGroup('database_keymark_average_normalized_modus.csv')"
   ],
   "outputs": [],
   "metadata": {}
  },
  {
   "cell_type": "code",
   "execution_count": null,
   "source": [
    "#Calculate parameters k1-k9\r\n",
    "hplib.GetParameters('database_keymark_average_normalized_modus_group.csv')"
   ],
   "outputs": [],
   "metadata": {}
  },
  {
   "cell_type": "code",
   "execution_count": 3,
   "source": [
    "simulate.getPowerHP(5,50,simulate.getParaeasy('LW 101'))"
   ],
   "outputs": [
    {
     "output_type": "execute_result",
     "data": {
      "text/plain": [
       "(10437.040120245001, 3331.87630209069, 0, 3.1324812729980263)"
      ]
     },
     "metadata": {},
     "execution_count": 3
    }
   ],
   "metadata": {}
  }
 ],
 "metadata": {
  "interpreter": {
   "hash": "1c4c526e93e8287540b24b192ade22dda43c6f2790b410e79d9bb5a13eace6d2"
  },
  "kernelspec": {
   "name": "python3",
   "display_name": "Python 3.8.5 64-bit ('base': conda)"
  },
  "language_info": {
   "codemirror_mode": {
    "name": "ipython",
    "version": 3
   },
   "file_extension": ".py",
   "mimetype": "text/x-python",
   "name": "python",
   "nbconvert_exporter": "python",
   "pygments_lexer": "ipython3",
   "version": "3.8.5"
  },
  "orig_nbformat": 4
 },
 "nbformat": 4,
 "nbformat_minor": 2
}