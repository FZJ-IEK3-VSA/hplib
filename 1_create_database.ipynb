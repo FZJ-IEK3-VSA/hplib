{
 "cells": [
  {
   "cell_type": "markdown",
   "source": [
    "# Create Database from Heatpump Keymark\r\n",
    "## 1) download from https://keymark.eu/en/products/heatpumps/certified-products\r\n",
    "## 2) use dash-skript to convert pdf into txt\r\n",
    "## 3) use this skript:\r\n",
    "\r\n",
    "\r\n"
   ],
   "metadata": {}
  },
  {
   "cell_type": "code",
   "execution_count": 2,
   "source": [
    "import hplib"
   ],
   "outputs": [],
   "metadata": {}
  },
  {
   "cell_type": "code",
   "execution_count": null,
   "source": [
    "# Import keymark data and save to csv database\n",
    "hplib.ImportKeymarkData()"
   ],
   "outputs": [],
   "metadata": {}
  },
  {
   "cell_type": "code",
   "execution_count": null,
   "source": [
    "# Reduce to climate measurement series and delete redunent entries and save to csv sub-database\n",
    "hplib.ReduceKeymarkData('database_keymark.csv','average')"
   ],
   "outputs": [],
   "metadata": {}
  },
  {
   "cell_type": "code",
   "execution_count": 3,
   "source": [
    "# Normalize electrical and thermal power from the keymark database to values from setpoint T_in = -7 °C and T_out = 52 °C\n",
    "hplib.NormalizeKeymarkData('database_keymark_average.csv')"
   ],
   "outputs": [],
   "metadata": {}
  },
  {
   "cell_type": "code",
   "execution_count": null,
   "source": [
    "def get_modus(P_thermal1, P_thermal2, P_thermal3, P_thermal4):\n",
    "    if (P_thermal1 <= P_thermal2):\n",
    "        if (P_thermal2 <= P_thermal3):\n",
    "            if (P_thermal3 <= P_thermal4):\n",
    "                modus='On-Off'#\\\\\\\n",
    "            else:\n",
    "                modus='On-Off'#/\\\\ idk why but its true examples: AQUATOP S08; TTF 35\n",
    "        else:\n",
    "            if(P_thermal3 <= P_thermal4):\n",
    "                modus='2-Stages'#\\/\\\n",
    "            else:\n",
    "                modus='Inverter'#\\//\n",
    "    else:\n",
    "        #if (P_thermal2 <= P_thermal3):\n",
    "        #if(P_thermal3 <= P_thermal4):\n",
    "        #modus='2-stagesLW300'\n",
    "        modus='Inverter'#/\\/\n",
    "    if (P_thermal1 == P_thermal4):\n",
    "        modus='delete'\n",
    "    return modus    "
   ],
   "outputs": [],
   "metadata": {}
  },
  {
   "cell_type": "markdown",
   "source": [
    "Get Modus like Inverter or On-Off or Two-Stages by comparing the thermal Power output at different temperature levels:\r\n",
    "\r\n",
    "-7/34 |  2/30  |  7/27  |  12/24\r\n",
    "\r\n",
    "\r\n",
    "assumptions for On-Off Heatpump:\r\n",
    "if temperature difference is bigger thermal Power output is smaller\r\n",
    "\r\n",
    "assumptions for 2 stages Heatpump:\r\n",
    "if temperature difference is bigger thermal Power output is smaller\r\n",
    "but it has one Jump in between 2/30 and 7/27\r\n",
    "\r\n",
    "Inverter: the rest\r\n",
    "\r\n",
    "t~36s"
   ],
   "metadata": {}
  },
  {
   "cell_type": "code",
   "execution_count": null,
   "source": [
    "data_key = pd.read_csv(r'output/data_key_normalized.csv', delimiter=',') #read Dataframe of all models\n",
    "Models=data_key['Model'].values.tolist()\n",
    "Models = list(dict.fromkeys(Models))\n",
    "data_keymark = data_key.rename(columns={'P_el [W]': 'P_el', 'P_th [W]': 'P_th', 'T_in [°C]': 'T_in', 'T_out [°C]': 'T_out'})\n",
    "data_keymark['deltaT']=data_keymark['T_out']-data_keymark['T_in']\n",
    "\n",
    "Moduslist=[]\n",
    "for model in Models:\n",
    "    try:\n",
    "        P_thermal=[]\n",
    "        filt1=data_keymark['T_out']==34\n",
    "        Tin_minus_seven = data_keymark.loc[filt1]\n",
    "        filt2=Tin_minus_seven['Model']==model\n",
    "        Model_minus_seven = Tin_minus_seven[filt2]\n",
    "        P_th_minus_seven = Model_minus_seven['P_th'].array[0]\n",
    "        P_thermal.append(P_th_minus_seven)\n",
    "\n",
    "\n",
    "        filt1=data_keymark['T_out']==30\n",
    "        T_in_plus_two = data_keymark.loc[filt1]\n",
    "        filt2=T_in_plus_two['Model']==model\n",
    "        Model_plus_two = T_in_plus_two[filt2]\n",
    "        P_th_plus_two = Model_plus_two['P_th'].array[0]\n",
    "        P_thermal.append(P_th_plus_two)\n",
    "\n",
    "        filt1=data_keymark['T_out']==27\n",
    "        Tin_plus_seven = data_keymark.loc[filt1]\n",
    "        filt2=Tin_plus_seven['Model']==model\n",
    "        Model_plus_seven = Tin_plus_seven[filt2]\n",
    "        P_th_plus_seven = Model_plus_seven['P_th'].array[0]\n",
    "        P_thermal.append(P_th_plus_seven)\n",
    "\n",
    "        filt1=data_keymark['T_out']==24\n",
    "        Tin_plus_twelfe = data_keymark.loc[filt1]\n",
    "        filt2=Tin_plus_twelfe['Model']==model\n",
    "        Model_plus_twelfe = Tin_plus_twelfe[filt2]\n",
    "        P_th_plus_twelfe = Model_plus_twelfe['P_th'].array[0]\n",
    "        P_thermal.append(P_th_plus_twelfe)\n",
    "        P_thermal\n",
    "        Modus = get_modus(P_thermal[0],P_thermal[1],P_thermal[2],P_thermal[3])\n",
    "    except:\n",
    "        print(model)\n",
    "    Moduslist.append(Modus)\n",
    "Modusdf = pd.DataFrame()\n",
    "Modusdf['Model']=Models\n",
    "Modusdf['Modus']=Moduslist\n",
    "Modusdf\n",
    "data_key = pd.read_csv(r'output/data_key_normalized.csv', delimiter=',') #read Dataframe of all models\n",
    "data_key=data_key.merge(Modusdf, how='inner', on='Model')\n",
    "data_key.to_csv(r'output/data_key_modus.csv', encoding='utf-8', index=False)"
   ],
   "outputs": [],
   "metadata": {}
  },
  {
   "cell_type": "code",
   "execution_count": null,
   "source": [
    "#data_key = data_key.loc[data_key['Modus']!='delete']\n",
    "#newdf=data_key.loc[data_key['Modus']=='2-stagesLW300']\n",
    "#newdf.to_csv('twostages.csv', encoding='utf-8', index=False)"
   ],
   "outputs": [],
   "metadata": {}
  },
  {
   "cell_type": "code",
   "execution_count": null,
   "source": [
    "data_key = pd.read_csv(r'output/data_key_modus.csv', delimiter=',') #read Dataframe of all models\n",
    "data_key = data_key.loc[data_key['Modus']!='delete']\n",
    "filt1 = (data_key['Type'] == 'Outdoor Air/Water') & (data_key['Modus']=='Inverter')\n",
    "data_key.loc[filt1, 'Group'] = 1\n",
    "filt1 = (data_key['Type'] == 'Exhaust Air/Water') & (data_key['Modus']=='Inverter')\n",
    "data_key.loc[filt1, 'Group'] = 1\n",
    "filt1 = (data_key['Type'] == 'Brine/Water') & (data_key['Modus']=='Inverter')\n",
    "data_key.loc[filt1, 'Group'] = 2\n",
    "filt1 = (data_key['Type'] == 'Water/Water') & (data_key['Modus']=='Inverter')\n",
    "data_key.loc[filt1, 'Group'] = 3\n",
    "\n",
    "\n",
    "filt1 = (data_key['Type'] == 'Outdoor Air/Water') & (data_key['Modus']=='On-Off')\n",
    "data_key.loc[filt1, 'Group'] = 4\n",
    "filt1 = (data_key['Type'] == 'Exhaust Air/Water') & (data_key['Modus']=='On-Off')\n",
    "data_key.loc[filt1, 'Group'] = 4\n",
    "filt1 = (data_key['Type'] == 'Brine/Water') & (data_key['Modus']=='On-Off')\n",
    "data_key.loc[filt1, 'Group'] = 5\n",
    "filt1 = (data_key['Type'] == 'Water/Water') & (data_key['Modus']=='On-Off')\n",
    "data_key.loc[filt1, 'Group'] = 6\n",
    "\n",
    "filt1 = (data_key['Type'] == 'Outdoor Air/Water') & (data_key['Modus']=='2-Stages')\n",
    "data_key.loc[filt1, 'Group'] = 7\n",
    "filt1 = (data_key['Type'] == 'Exhaust Air/Water') & (data_key['Modus']=='2-Stages')\n",
    "data_key.loc[filt1, 'Group'] = 7\n",
    "filt1 = (data_key['Type'] == 'Brine/Water') & (data_key['Modus']=='2-Stages')\n",
    "data_key.loc[filt1, 'Group'] = 8\n",
    "filt1 = (data_key['Type'] == 'Water/Water') & (data_key['Modus']=='2-Stages')\n",
    "data_key.loc[filt1, 'Group'] = 9\n",
    "data_key.to_csv(r'output/data_key.csv', encoding='utf-8', index=False)"
   ],
   "outputs": [],
   "metadata": {}
  }
 ],
 "metadata": {
  "interpreter": {
   "hash": "377d64e8aeaface4c38447ef003c7fef54ed0fb1e627155cc226b74375c99ad4"
  },
  "kernelspec": {
   "name": "python3",
   "display_name": "Python 3.8.8 64-bit ('hplib-database': conda)"
  },
  "language_info": {
   "codemirror_mode": {
    "name": "ipython",
    "version": 3
   },
   "file_extension": ".py",
   "mimetype": "text/x-python",
   "name": "python",
   "nbconvert_exporter": "python",
   "pygments_lexer": "ipython3",
   "version": "3.8.8"
  },
  "orig_nbformat": 4
 },
 "nbformat": 4,
 "nbformat_minor": 2
}