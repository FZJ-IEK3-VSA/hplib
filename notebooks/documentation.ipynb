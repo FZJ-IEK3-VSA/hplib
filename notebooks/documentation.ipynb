{
 "cells": [
  {
   "cell_type": "markdown",
   "metadata": {},
   "source": [
    "# Documentation for the creation and usage of the heat pump library (hplib)\n",
    "\n",
    "This documentation covers the database preperation, validation and usage for simulation. If you're only interested in using hplib for simulation purpose, you should have a look into chapter [4. How to simulate](#how-to-simulate)."
   ]
  },
  {
   "cell_type": "markdown",
   "metadata": {},
   "source": [
    "1. [Definitions](#definitions)\n",
    "2. [Database preperation](#database-preparation)\n",
    "3. [Work with database](#work-with-database)\n",
    "    1. [Load database](#load-database)\n",
    "    2. [Load specific model](#load-specific-model)\n",
    "    3. [Load generic model](#load-generic-model)\n",
    "4. [How to simulate](#how-to-simulate)\n",
    "    1. [Simulate on time step](#simulate-one-timestep)\n",
    "    2. [Simulate a time series](#simulate-a-timeseries)\n",
    "5. [Example heat pump](#example-heat-pump)\n",
    "6. [Validation](#validation)\n",
    "    1. [Air/Water | on/off](#air-water-onoff)\n",
    "    2. [Brine/Water | on/off](#brine-water-onoff)\n",
    "    3. [Water/Water | on/off](#water-water-onoff)\n",
    "    4. [Air/Water | regulated](#air-water-regulated)\n",
    "        1. [Heating](#air-water-regulated-heating)\n",
    "        2. [Cooling](#air-water-regulated-cooling)\n",
    "    5. [Brine/Water | regulated](#brine-water-regulated)\n",
    "7. [Conclusion](#conclusion)\n",
    "8. [Additional functions](#additional-functions)"
   ]
  },
  {
   "cell_type": "code",
   "execution_count": 1,
   "metadata": {},
   "outputs": [],
   "source": [
    "import os\n",
    "os.chdir(r'../hplib')\n",
    "import hplib as hpl\n",
    "import hplib_database as db\n",
    "import pandas as pd\n",
    "import warnings\n",
    "import numpy\n",
    "import matplotlib.pyplot as plt\n",
    "warnings.filterwarnings(\"ignore\")\n"
   ]
  },
  {
   "cell_type": "code",
   "execution_count": null,
   "metadata": {},
   "outputs": [],
   "source": [
    "%%html\n",
    "<style>\n",
    "table {float:left}\n",
    "</style>"
   ]
  },
  {
   "cell_type": "markdown",
   "metadata": {},
   "source": [
    "## **1. Definitions** <a class=\"anchor\" id=\"definitions\" name=\"definitions\"></a>\n",
    "\n",
    "**Abbreviations**\n",
    "\n",
    "| Abbreviation | Meaning |\n",
    "| :--- | :--- |\n",
    "| P_th | Thermal output power in W |\n",
    "| P_el | Electical input Power in W |\n",
    "| COP | Coefficient of performance |\n",
    "| EER | Energy Efficiency Ratio |\n",
    "| T_in | Input temperature in °C at primary side of the heat pump |\n",
    "| T_out | Output temperature in °C at secondary side of the heat pump |\n",
    "| T_amb | Ambient temperature in °C |\n",
    "| P_th_h_ref | Thermal heating output power in W at T_in = -7 °C and T_out = 52 °C |\n",
    "| P_el_h_ref | Elecrical input power (heating) in W at T_in = -7 °C and T_out = 52 °C |\n",
    "| COP_ref | Coefficient of performance at T_in = -7 °C and T_out = 52 °C |\n",
    "| P_th_c_ref | Thermal cooling output power in W at T_in = 35 °C and T_out = 7 °C |\n",
    "| P_el_c_ref | Elecrical input power (cooling) in W at T_in = 35 °C and T_out = 7 °C |\n",
    "| p1-p4 | Fit-Parameters for Fit-Function |\n"
   ]
  },
  {
   "cell_type": "markdown",
   "metadata": {},
   "source": [
    "\n",
    "**Group IDs**\n",
    "\n",
    "| Group ID | Type | Subtype |\n",
    "| :--- | :--- | :--- |\n",
    "| 1 | Outdoor Air / Water | Regulated | \n",
    "| 2 | Brine / Water | Regulated | \n",
    "| 3 | Water / Water | Regulated | \n",
    "| 4 | Outdoor Air / Water | On-Off | \n",
    "| 5 | Brine / Water | On-Off | \n",
    "| 6 | Water / Water | On-Off |"
   ]
  },
  {
   "cell_type": "markdown",
   "metadata": {},
   "source": [
    "## **2. Database preparation** <a class=\"anchor\" id=\"database-preparation\" name=\"database-preparation\"></a>\n",
    "\n",
    "This section is only for documentation regarding the development of the final database. It's not neccesary to run this code again."
   ]
  },
  {
   "cell_type": "code",
   "execution_count": null,
   "metadata": {},
   "outputs": [],
   "source": [
    "# Import keymark data from https://keymark.eu/en/products/heatpumps/certified-products and save to csv files \n",
    "db.import_keymark_data()\n",
    "# -> this creates /input/csv_%M_%Y/"
   ]
  },
  {
   "cell_type": "code",
   "execution_count": null,
   "metadata": {},
   "outputs": [],
   "source": [
    "# Merge files in one csv\n",
    "db.combine_raw_csv()\n",
    "# -> this creates /output/database.csv"
   ]
  },
  {
   "cell_type": "code",
   "execution_count": null,
   "metadata": {},
   "outputs": [],
   "source": [
    "# Many heat pump models have redundant entries because of different controller or storage configurations.\n",
    "# Reduce to unique heat pump models.\n",
    "db.reduce_heating_data()\n",
    "# -> this creates /output/database_reduced.csv"
   ]
  },
  {
   "cell_type": "code",
   "execution_count": null,
   "metadata": {},
   "outputs": [],
   "source": [
    "# Heating: Normalize electrical power from the keymark database to values from setpoint T_in = -7 °C and T_out = 52 °C\n",
    "# Cooling: Normalize electrical power from the keymark database to values from setpoint T_outside = 35 °C and T_out = 7 °C\n",
    "db.normalize_data()\n",
    "# -> this creates /output/database_reduced_normalized.csv"
   ]
  },
  {
   "cell_type": "code",
   "execution_count": null,
   "metadata": {},
   "outputs": [],
   "source": [
    "# Identify subtypes like on-off or regulated heat pumps and assign group id depending on its type and subtype\n",
    "db.identify_subtypes()\n",
    "# -> this creates /output/database_reduced_normalized_subtypes.csv"
   ]
  },
  {
   "cell_type": "code",
   "execution_count": 3,
   "metadata": {},
   "outputs": [],
   "source": [
    "# Calculate parameters p1-p4 for P_el_h, P_el_c, COP and EER with a least-square fit approach\n",
    "# based on  K. Schwamberger: „Modellbildung und Regelung von Gebäudeheizungsanlagen \n",
    "# mit Wärmepumpen“, VDI Verlag, Düsseldorf, Fortschrittsberichte VDI Reihe 6 Nr. 263, 1991.\n",
    "db.calculate_fitting_parameters()\n",
    "# -> this creates hplib_database.csv\n",
    "# -> this creates /output/database_reduced_normalized_subtype_parameters.csv"
   ]
  },
  {
   "cell_type": "code",
   "execution_count": 2,
   "metadata": {},
   "outputs": [],
   "source": [
    "# Calculate the relative error (RE) for each set point of every heat pump\n",
    "# and calculate the mean absolute percentage error (MAPE) for every heat pump\n",
    "db.validation_re_mape()\n",
    "# -> this creates /output/relative_error.csv\n",
    "# -> this overwrites the hplib_database.csv"
   ]
  },
  {
   "cell_type": "markdown",
   "metadata": {},
   "source": [
    "#TODO: \n",
    " - check Validation \n",
    " - add generics"
   ]
  },
  {
   "cell_type": "markdown",
   "metadata": {},
   "source": [
    "**Create generic heat pump models**"
   ]
  },
  {
   "cell_type": "code",
   "execution_count": null,
   "metadata": {},
   "outputs": [],
   "source": [
    "# Calculate generic heat pump models for each group id\n",
    "# for cooling: there is only a generic heat pump of type air/water | regulated available\n",
    "db.add_generic()\n",
    "# -> this overwrites the /hplib/hplib_database.csv"
   ]
  },
  {
   "cell_type": "markdown",
   "metadata": {},
   "source": [
    "**Hint:** The csv files in the `output` folder are for documentation and validation purpose. The code `hplib.py` and database `hplib_database` files, which are meant to be used for simulations, are located in the `hplib` folder. "
   ]
  },
  {
   "cell_type": "markdown",
   "metadata": {},
   "source": [
    "## **3. Work with database** <a class=\"anchor\" id=\"work-with-database\" name=\"work-with-database\"></a>"
   ]
  },
  {
   "cell_type": "markdown",
   "metadata": {},
   "source": [
    "### **3.1 Load database**  <a class=\"anchor\" id=\"load-database\" name=\"load-database\"></a>\n",
    "\n",
    "Simply execute the command without arguments and you will get a DataFrame with the complete list of manufacturers and models. Now you are able to view, filter or sort the database."
   ]
  },
  {
   "cell_type": "code",
   "execution_count": null,
   "metadata": {},
   "outputs": [],
   "source": [
    "database = hpl.load_database()\n",
    "database"
   ]
  },
  {
   "cell_type": "markdown",
   "metadata": {},
   "source": [
    "### **3.2 Load specific model**  <a class=\"anchor\" id=\"load-specific-model\" name=\"load-specific-model\"></a>\n",
    "\n",
    "To get the parameters of a specific heat pump model, use the `get_parameters()` method with a specific Model name from the database.\n",
    "You will get a DataFrame with all parameters including the mean absolute percentage errors (MAPE) for this model."
   ]
  },
  {
   "cell_type": "code",
   "execution_count": null,
   "metadata": {},
   "outputs": [],
   "source": [
    "parameters = hpl.get_parameters('i-SHWAK V4 06')\n",
    "parameters"
   ]
  },
  {
   "cell_type": "markdown",
   "metadata": {},
   "source": [
    "### **3.3 Load generic model**  <a class=\"anchor\" id=\"load-generic-model\" name=\"load-generic-model\"></a>\n",
    "\n",
    "To get the parameters of a generic heat pump model, use the `get_parameters()` method with the following keyword arguments of a free choosen set point\n",
    "\n",
    "* model='Generic'\n",
    "* group_id: 1,2,4,5,6\n",
    "* t_in: choose primary input temperature in °C\n",
    "* t_out: choose secondary output temperature in °C\n",
    "* p_th: choose thermal output power in W\n",
    "\n",
    "You will get a DataFrame with all parameters for this generic model. For every group id the parameter set is based on the average parameters of all heat pumps of its group with an MAPE of less than 25%."
   ]
  },
  {
   "cell_type": "code",
   "execution_count": 4,
   "metadata": {},
   "outputs": [
    {
     "data": {
      "text/plain": [
       "{'T_in': -7,\n",
       " 'T_out': 30,\n",
       " 'T_amb': -7,\n",
       " 'COP': 0,\n",
       " 'EER': 3.6836387835030564,\n",
       " 'P_el': 43.79296250470725,\n",
       " 'P_th': -161.31745512683477,\n",
       " 'm_dot': 0.0076817835774683225}"
      ]
     },
     "execution_count": 4,
     "metadata": {},
     "output_type": "execute_result"
    }
   ],
   "source": [
    "parameters = hpl.get_parameters(model='Generic', group_id=1, t_in=-7, t_out=40, p_th=10000)\n",
    "heatpump=hpl.HeatPump(parameters)\n",
    "results = heatpump.simulate(t_in_primary=-7, t_in_secondary=35, t_amb=-7, mode=2)\n",
    "results"
   ]
  },
  {
   "cell_type": "markdown",
   "metadata": {},
   "source": [
    "### **3.4 Get models with same fitting parameters**  <a class=\"anchor\" id=\"load-generic-model\" name=\"load-generic-model\"></a>\n",
    "\n",
    "To get a list of all models with same fitting parameters, create the class `Same_Built()` and use the `database_to_all()` method with the modelname from the hplib_datase.csv\n",
    "\n"
   ]
  },
  {
   "cell_type": "code",
   "execution_count": null,
   "metadata": {},
   "outputs": [],
   "source": [
    "same_built=hpl.Same_Built()\n",
    "\n",
    "same_built.database_to_all('LW 101')"
   ]
  },
  {
   "cell_type": "markdown",
   "metadata": {},
   "source": [
    "It also works the other way around:\n",
    "\n",
    " - If the heatpump is in hplib/hplib_database_all.csv but not in hplib/hplib_database.csv use the `all_to_database()` method to find the heatpump with equivalent fitting parameters.\n"
   ]
  },
  {
   "cell_type": "code",
   "execution_count": null,
   "metadata": {},
   "outputs": [],
   "source": [
    "same_built.all_to_database('LW 101')"
   ]
  },
  {
   "cell_type": "markdown",
   "metadata": {},
   "source": [
    "## **4. How to simulate** <a class=\"anchor\" id=\"how-to-simulate\" name=\"how-to-simulate\"></a>\n",
    "\n",
    "With the Fit-Parameters p1-p4 for P_th, P_el and COP it is possible to calculate the results with the following methods:\n",
    "\n",
    "1. P_th and P_el with Fit-Functions and `COP = P_th / P_el` or\n",
    "2. P_th and COP with Fit-Functions and `P_el = P_th / COP` or\n",
    "3. P_el and COP with Fut-Functions and `P_th = P_el * COP`\n",
    "\n",
    "While the model by Schwarmberger [1] uses the first method, our validation showed, that the third method leads to better results. Therefore we decided to implement this in the `simulate` definition."
   ]
  },
  {
   "cell_type": "markdown",
   "metadata": {},
   "source": [
    "### **4.1 Simulate one timestep**  <a class=\"anchor\" id=\"simulate-one-timestep\" name=\"simulate-one-timestep\"></a>\n",
    "\n",
    "Please define a primary input temperature (t_in_primary), secondary input temperature (t_in_secondary),\n",
    "ambient / outdoor temperature (t_amb) in °C and the parameters from the previous step. The t_in_secondary\n",
    "is supposed to be heated up by 5 K which then results in output temperature.\n",
    "\n",
    "Important:\n",
    "* for air / water heat pumps t_in_primary and t_amb are supposed to be the same values.\n",
    "* for brine / water or water / water heat pumps t_in_primary and t_amb are independent values."
   ]
  },
  {
   "cell_type": "code",
   "execution_count": null,
   "metadata": {},
   "outputs": [],
   "source": [
    "# Load parameters\n",
    "parameters = hpl.get_parameters(model='Generic', group_id=1, t_in=-7, t_out=40, p_th=10000)\n",
    "# Create heat pump object with parameters\n",
    "heatpump = hpl.HeatPump(parameters)\n",
    "# Simulate with values\n",
    "# whereas mode = 1 is for heating and mode = 2 is for cooling\n",
    "results = heatpump.simulate(t_in_primary=-7, t_in_secondary=35, t_amb=-7, mode=2)\n",
    "print(pd.DataFrame([results]))"
   ]
  },
  {
   "cell_type": "markdown",
   "metadata": {},
   "source": [
    "### **4.2 Simulate a timeseries**  <a class=\"anchor\" id=\"simulate-a-timeseries\" name=\"simulate-a-timeseries\"></a>\n",
    "\n",
    "The simulation approach could be to do a `for loop` around the method of simulating one timestep. But it will be faster to use the previous method with arrays as inputs. For usage you are allowed to define pandas.Series or arrays as input values. It is also possible to combine single values and pandas.Series / arrays.\n",
    "\n",
    "*The next example uses a measured timeseries for ambient / outdoor temperature and secondary \n",
    "input temperature of a real heating system to demonstrate the simulation approach. The data represents\n",
    "on year and has a temporal resolution of 1 minute*"
   ]
  },
  {
   "cell_type": "code",
   "execution_count": null,
   "metadata": {},
   "outputs": [],
   "source": [
    "# Read input file with temperatures\n",
    "df = pd.read_csv('../input/TestYear.csv')\n",
    "df['T_amb'] = df['T_in_primary'] # air/water heat pump -> T_amb = T_in_primary\n",
    "# Simulate with values\n",
    "# Load parameters\n",
    "parameters = hpl.get_parameters(model='Generic', group_id=1, t_in=-7, t_out=40, p_th=10000)\n",
    "# Create heat pump object with parameters\n",
    "heatpump = hpl.HeatPump(parameters)\n",
    "# whereas mode = 1 is for heating and mode = 2 is for cooling\n",
    "results = heatpump.simulate(t_in_primary=df['T_in_primary'].values, t_in_secondary=df['T_in_secondary'].values, t_amb=df['T_amb'].values, mode=1)\n",
    "# Plot / Print some results\n",
    "# example for distribution of COPs\n",
    "results=pd.DataFrame.from_dict(results)\n",
    "results['COP'].plot.hist(bins=50, title='Distribution of COP values') \n",
    "# Calclulate seasonal performance factor (SPF)\n",
    "SPF = results['P_th'].mean() / results['P_el'].mean() \n",
    "print('The seasonal performance factor (SPF) for one year is = '+str(round(SPF,1)))"
   ]
  },
  {
   "cell_type": "markdown",
   "metadata": {},
   "source": [
    "## **5. Example heat pump** <a class=\"anchor\" id=\"example-heat-pump\" name=\"example-heat-pump\"></a>\n",
    "\n",
    "To get a overview over the different operation conditions, this section plots the electrical and thermal power as well as the COP for all possible primary and secondary input temperatures\n",
    " \n",
    "HEATING: **Schematic plot** of COP, P_el and P_th for an **generic air/water** heat pump: subtype = **regulated** "
   ]
  },
  {
   "cell_type": "code",
   "execution_count": null,
   "metadata": {},
   "outputs": [],
   "source": [
    "# Define Temperatures\n",
    "T_in_primary = range(-20,31)\n",
    "T_in_secondary = range(20,56)\n",
    "T_in = numpy.array([])\n",
    "T_out = numpy.array([])\n",
    "\n",
    "# Load parameters of generic air/water | regulated\n",
    "parameters = hpl.get_parameters('Generic', group_id=1, t_in=-7, t_out=45, p_th = 10000)\n",
    "heatpump=hpl.HeatPump(parameters)\n",
    "results=pd.DataFrame()\n",
    "# Create input series\n",
    "for t1 in T_in_primary:\n",
    "    for t2 in T_in_secondary:\n",
    "        T_in=numpy.append(T_in,t1)\n",
    "        T_out=numpy.append(T_out,t2)\n",
    "results=heatpump.simulate(t_in_primary=T_in, t_in_secondary=T_out, t_amb=T_in, mode=1)\n",
    "results=pd.DataFrame.from_dict(results)\n",
    "\n",
    "# Plot COP\n",
    "fig1, ax1 = plt.subplots()\n",
    "plot = plt.tricontourf(results['T_in'], results['T_out'], results['COP'])\n",
    "ax1.tricontour(results['T_in'], results['T_out'], results['COP'], colors='k')\n",
    "fig1.colorbar(plot)\n",
    "ax1.set_title('COP')\n",
    "ax1.set_xlabel('Primary input temperature [°C]')\n",
    "ax1.set_ylabel('Secondary output temperature [°C]')\n",
    "fig1.show\n",
    "\n",
    "# Plot electrical input power\n",
    "fig1, ax1 = plt.subplots()\n",
    "plot = plt.tricontourf(results['T_in'], results['T_out'], results['P_el'])\n",
    "ax1.tricontour(results['T_in'], results['T_out'], results['P_el'], colors='k')\n",
    "fig1.colorbar(plot)\n",
    "ax1.set_title('Eletrical input power [W]')\n",
    "ax1.set_xlabel('Primary input temperature [°C]')\n",
    "ax1.set_ylabel('Secondary output temperature [°C]')\n",
    "fig1.show\n",
    "\n",
    "# Plot thermal output power\n",
    "fig1, ax1 = plt.subplots()\n",
    "plot = plt.tricontourf(results['T_in'], results['T_out'], results['P_th'])\n",
    "ax1.tricontour(results['T_in'], results['T_out'], results['P_th'], colors='k')\n",
    "fig1.colorbar(plot)\n",
    "ax1.set_title('Thermal output power [W]')\n",
    "ax1.set_xlabel('Primary input temperature [°C]')\n",
    "ax1.set_ylabel('Secondary output temperature [°C]')\n",
    "fig1.show"
   ]
  },
  {
   "cell_type": "markdown",
   "metadata": {},
   "source": [
    "COOLING: **Schematic plot** of EER, P_el and P_th for an **generic air/water** heat pump: subtype = **regulated** "
   ]
  },
  {
   "cell_type": "code",
   "execution_count": null,
   "metadata": {},
   "outputs": [],
   "source": [
    "# Define Temperatures\n",
    "T_in_primary = range(20,36)\n",
    "T_in_secondary = range(10,30)\n",
    "T_in = numpy.array([])\n",
    "T_out = numpy.array([])\n",
    "\n",
    "# Load parameters of generic air/water | regulated\n",
    "parameters = hpl.get_parameters('Generic', group_id=1, t_in=-7, t_out=45, p_th = 10000)\n",
    "heatpump=hpl.HeatPump(parameters)\n",
    "results=pd.DataFrame()\n",
    "# Create input series\n",
    "for t1 in T_in_primary:\n",
    "    for t2 in T_in_secondary:\n",
    "        T_in=numpy.append(T_in,t1)\n",
    "        T_out=numpy.append(T_out,t2)\n",
    "results=heatpump.simulate(t_in_primary=T_in, t_in_secondary=T_out, t_amb=T_in, mode=2)\n",
    "results=pd.DataFrame.from_dict(results)\n",
    "# Plot EER\n",
    "fig1, ax1 = plt.subplots()\n",
    "plot = plt.tricontourf(results['T_in'], results['T_out'], results['EER'])\n",
    "ax1.tricontour(results['T_in'], results['T_out'], results['EER'], colors='k')\n",
    "fig1.colorbar(plot)\n",
    "ax1.set_title('EER')\n",
    "ax1.set_xlabel('Primary input temperature [°C]')\n",
    "ax1.set_ylabel('Secondary output temperature [°C]')\n",
    "fig1.show\n",
    "\n",
    "# Plot electrical input power\n",
    "fig1, ax1 = plt.subplots()\n",
    "plot = plt.tricontourf(results['T_in'], results['T_out'], results['P_el'])\n",
    "ax1.tricontour(results['T_in'], results['T_out'], results['P_el'], colors='k')\n",
    "fig1.colorbar(plot)\n",
    "ax1.set_title('Eletrical input power [W]')\n",
    "ax1.set_xlabel('Primary input temperature [°C]')\n",
    "ax1.set_ylabel('Secondary output temperature [°C]')\n",
    "fig1.show\n",
    "\n",
    "# Plot thermal output power\n",
    "fig1, ax1 = plt.subplots()\n",
    "plot = plt.tricontourf(results['T_in'], results['T_out'], results['P_th'])\n",
    "ax1.tricontour(results['T_in'], results['T_out'], results['P_th'], colors='k')\n",
    "fig1.colorbar(plot)\n",
    "ax1.set_title('Thermal output power [W]')\n",
    "ax1.set_xlabel('Primary input temperature [°C]')\n",
    "ax1.set_ylabel('Secondary output temperature [°C]')\n",
    "fig1.show"
   ]
  },
  {
   "cell_type": "code",
   "execution_count": null,
   "metadata": {},
   "outputs": [],
   "source": [
    "df=hpl.load_database()\n",
    "print(len(df[df['Group']==1]),len(df[df['Group']==2]),len(df[df['Group']==3]),len(df[df['Group']==4]),len(df[df['Group']==5]),len(df[df['Group']==6]))"
   ]
  },
  {
   "cell_type": "markdown",
   "metadata": {},
   "source": [
    "## **6. Validation** <a class=\"anchor\" id=\"validation\" name=\"validation\"></a>\n",
    "\n",
    "The following plots will give you a detailed view on the differences between simulation and measurement from heat pump keymark. Therefore, all set points for all heat pumps are loaded from the file `database_heating_average_normalized_subtypes_validation.csv`."
   ]
  },
  {
   "cell_type": "code",
   "execution_count": null,
   "metadata": {},
   "outputs": [],
   "source": [
    "df = pd.read_csv('../output/database_heating_average_normalized_subtypes_validation.csv')"
   ]
  },
  {
   "cell_type": "markdown",
   "metadata": {},
   "source": [
    "### **6.1 Air/Water | on/off** <a class=\"anchor\" id=\"air-water-onoff\" name=\"air-water-onoff\"></a>\n",
    "\n",
    "* The mean absolute percentage error (MAPE) over all heat pumps is\n",
    "    * 5.4 % for COP\n",
    "    * 2.5 % for P_el\n",
    "    * 5.8 % for P_th\n",
    "* The errors come from deviation mostly at low ambient / outside temperatures"
   ]
  },
  {
   "cell_type": "code",
   "execution_count": null,
   "metadata": {},
   "outputs": [],
   "source": [
    "# Plot relative error for all heat pumps of type air/water | on-off\n",
    "Group = 4\n",
    "data = df.loc[(df['Group']==Group)]\n",
    "data = data[['T_amb [°C]','RE_COP', 'RE_P_el', 'RE_P_th']]\n",
    "ax = data.boxplot(by='T_amb [°C]', layout=(1,3), figsize=(10,5), showfliers=False)\n",
    "ax[0].set_ylim(-60,60)\n",
    "ax[0].set_ylabel('relative error in %')\n",
    "data.abs().mean()[1:4] # mean absolute percentage error (MAPE)"
   ]
  },
  {
   "cell_type": "code",
   "execution_count": null,
   "metadata": {},
   "outputs": [],
   "source": [
    "# Plot absolute values all heat pumps of type air/water | on-off as scatter plot\n",
    "Group = 4\n",
    "fig, ax = plt.subplots(1,3)\n",
    "data = df.loc[(df['Group']==Group)]\n",
    "data.plot.scatter(ax=ax[0], x='COP',y='COP_sim', alpha=0.3, figsize=(12,5), grid=True, title='Coefficient of performance')\n",
    "data.plot.scatter(ax=ax[1], x='P_el [W]',y='P_el_sim', alpha=0.3, figsize=(15,5), grid=True, title='Electrical input power [W]')\n",
    "data.plot.scatter(ax=ax[2], x='P_th [W]',y='P_th_sim', alpha=0.3, figsize=(15,5), grid=True, title='Thermal output power [W]')\n",
    "ax[0].set_xlim(0,10)\n",
    "ax[0].set_ylim(0,10)\n",
    "ax[1].set_xlim(0,20000)\n",
    "ax[1].set_ylim(0,20000)\n",
    "ax[2].set_xlim(0,50000)\n",
    "ax[2].set_ylim(0,50000)"
   ]
  },
  {
   "cell_type": "markdown",
   "metadata": {},
   "source": [
    "### **6.2 Brine/Water | on/off** <a class=\"anchor\" id=\"brine-water-onoff\" name=\"brine-water-onoff\"></a>\n",
    "\n",
    "* The mean absolute percentage error (MAPE) over all heat pumps is\n",
    "    * 3.9 % for COP\n",
    "    * 1.7 % for P_el\n",
    "    * 2.7 % for P_th\n",
    "* **Important**: Validation data is only available at primary input temperature of 0 °C.  "
   ]
  },
  {
   "cell_type": "code",
   "execution_count": null,
   "metadata": {},
   "outputs": [],
   "source": [
    "# Plot relative error for all heat pumps of type brine/water | on-off\n",
    "Group = 5\n",
    "data = df.loc[(df['Group']==Group)]\n",
    "data = data[['T_amb [°C]','RE_COP', 'RE_P_el', 'RE_P_th']]\n",
    "ax = data.boxplot(by='T_amb [°C]', layout=(1,3), figsize=(10,5), showfliers=False)\n",
    "ax[0].set_ylim(-60,60)\n",
    "ax[0].set_ylabel('relative error in %')\n",
    "data.abs().mean()[1:4] # mean absolute percentage error (MAPE)"
   ]
  },
  {
   "cell_type": "code",
   "execution_count": null,
   "metadata": {},
   "outputs": [],
   "source": [
    "# Plot absolute values all heat pumps of type brine/water | on-off as scatter plot\n",
    "Group = 5\n",
    "fig, ax = plt.subplots(1,3)\n",
    "data = df.loc[(df['Group']==Group)]\n",
    "data.plot.scatter(ax=ax[0], x='COP',y='COP_sim', alpha=0.3, figsize=(12,5), grid=True, title='Coefficient of performance')\n",
    "data.plot.scatter(ax=ax[1], x='P_el [W]',y='P_el_sim', alpha=0.3, figsize=(15,5), grid=True, title='Electrical input power [W]')\n",
    "data.plot.scatter(ax=ax[2], x='P_th [W]',y='P_th_sim', alpha=0.3, figsize=(15,5), grid=True, title='Thermal output power [W]')\n",
    "ax[0].set_xlim(0,10)\n",
    "ax[0].set_ylim(0,10)\n",
    "ax[1].set_xlim(0,20000)\n",
    "ax[1].set_ylim(0,20000)\n",
    "ax[2].set_xlim(0,50000)\n",
    "ax[2].set_ylim(0,50000)"
   ]
  },
  {
   "cell_type": "markdown",
   "metadata": {},
   "source": [
    "### **6.3 Water/Water | on/off** <a class=\"anchor\" id=\"water-water-onoff\" name=\"water-water-onoff\"></a>\n",
    "\n",
    "* The mean absolute percentage error (MAPE) over all heat pumps is\n",
    "    * 1.6 % for COP\n",
    "    * 1.6 % for P_el\n",
    "    * 2.4 % for P_th\n",
    "* **Important**: Validation data is only available at primary input temperature of 10 °C."
   ]
  },
  {
   "cell_type": "code",
   "execution_count": null,
   "metadata": {},
   "outputs": [],
   "source": [
    "# Plot relative error for all heat pumps of type water/water | on-off\n",
    "Group = 6\n",
    "data = df.loc[(df['Group']==Group)]\n",
    "data = data[['T_amb [°C]','RE_COP', 'RE_P_el', 'RE_P_th']]\n",
    "ax = data.boxplot(by='T_amb [°C]', layout=(1,3), figsize=(10,5), showfliers=False)\n",
    "ax[0].set_ylim(-60,60)\n",
    "ax[0].set_ylabel('relative error in %')\n",
    "data.abs().mean()[1:4] # mean absolute percentage error (MAPE)"
   ]
  },
  {
   "cell_type": "code",
   "execution_count": null,
   "metadata": {},
   "outputs": [],
   "source": [
    "# Plot absolute values all heat pumps of type water/water | on-off as scatter plot\n",
    "Group = 6\n",
    "fig, ax = plt.subplots(1,3)\n",
    "data = df.loc[(df['Group']==Group)]\n",
    "data.plot.scatter(ax=ax[0], x='COP',y='COP_sim', alpha=0.3, figsize=(12,5), grid=True, title='Coefficient of performance')\n",
    "data.plot.scatter(ax=ax[1], x='P_el [W]',y='P_el_sim', alpha=0.3, figsize=(15,5), grid=True, title='Electrical input power [W]')\n",
    "data.plot.scatter(ax=ax[2], x='P_th [W]',y='P_th_sim', alpha=0.3, figsize=(15,5), grid=True, title='Thermal output power [W]')\n",
    "ax[0].set_xlim(0,10)\n",
    "ax[0].set_ylim(0,10)\n",
    "ax[1].set_xlim(0,20000)\n",
    "ax[1].set_ylim(0,20000)\n",
    "ax[2].set_xlim(0,50000)\n",
    "ax[2].set_ylim(0,50000)"
   ]
  },
  {
   "cell_type": "markdown",
   "metadata": {},
   "source": [
    "### **6.4 Air/Water | regulated** <a class=\"anchor\" id=\"air-water-regulated\" name=\"air-water-regulated\"></a>\n",
    "\n",
    "**Heating**\n",
    "* The mean absolute percentage error (MAPE) over all heat pumps is\n",
    "    * 12.1 % for COP\n",
    "    * 19.5 % for P_el\n",
    "    * 23.5 % for P_th\n",
    "\n",
    "**Cooling**\n",
    "* The mean absolute percentage error (MAPE) over all heat pumps is\n",
    "    * 4.8 % for EER\n",
    "    * 16.5 % for P_el\n",
    "    * 17.0 % for P_th\n",
    "    \n",
    "Because of different control strategies, the deviation over different heat pump models is much higher compared to on/off types."
   ]
  },
  {
   "cell_type": "markdown",
   "metadata": {},
   "source": [
    "#### **6.4.1 Heating** <a class=\"anchor\" id=\"air-water-regulated-heating\" name=\"air-water-regulated-heating\"></a>"
   ]
  },
  {
   "cell_type": "code",
   "execution_count": null,
   "metadata": {},
   "outputs": [],
   "source": [
    "# Plot relative error for all heat pumps of type air/water | regulated\n",
    "Group = 1\n",
    "data = df.loc[(df['Group']==Group)]\n",
    "data = data[['T_amb [°C]','RE_COP', 'RE_P_el', 'RE_P_th']]\n",
    "ax = data.boxplot(by='T_amb [°C]', layout=(1,3), figsize=(10,5), showfliers=False)\n",
    "ax[0].set_ylim(-60,60)\n",
    "ax[0].set_ylabel('relative error in %')\n",
    "data.abs().mean()[1:4] # mean absolute percentage error (MAPE)"
   ]
  },
  {
   "cell_type": "code",
   "execution_count": null,
   "metadata": {},
   "outputs": [],
   "source": [
    "# Plot absolute values all heat pumps of type air/water | regulated as scatter plot\n",
    "Group = 1\n",
    "fig, ax = plt.subplots(1,3)\n",
    "data = df.loc[(df['Group']==Group)]\n",
    "data.plot.scatter(ax=ax[0], x='COP',y='COP_sim', alpha=0.3, figsize=(12,5), grid=True, title='Coefficient of performance')\n",
    "data.plot.scatter(ax=ax[1], x='P_el [W]',y='P_el_sim', alpha=0.1, figsize=(15,5), grid=True, title='Electrical input power [W]')\n",
    "data.plot.scatter(ax=ax[2], x='P_th [W]',y='P_th_sim', alpha=0.1, figsize=(15,5), grid=True, title='Thermal output power [W]')\n",
    "ax[0].set_xlim(0,10)\n",
    "ax[0].set_ylim(0,10)\n",
    "ax[1].set_xlim(0,20000)\n",
    "ax[1].set_ylim(0,20000)\n",
    "ax[2].set_xlim(0,50000)\n",
    "ax[2].set_ylim(0,50000)"
   ]
  },
  {
   "cell_type": "markdown",
   "metadata": {},
   "source": [
    "#### **6.4.2 Cooling** <a class=\"anchor\" id=\"air-water-regulated-cooling\" name=\"air-water-regulated-cooling\"></a>"
   ]
  },
  {
   "cell_type": "code",
   "execution_count": null,
   "metadata": {},
   "outputs": [],
   "source": [
    "data = pd.read_csv('../output/database_cooling_reduced_normalized_validation.csv')\n",
    "data = data[['T_outside [°C]','RE_Pdc', 'RE_P_el', 'RE_EER']]\n",
    "ax = data.boxplot(by='T_outside [°C]', layout=(1,3), figsize=(10,5), showfliers=False)\n",
    "ax[0].set_ylim(-60,60)\n",
    "ax[0].set_ylabel('relative error in %')\n",
    "data.abs().mean()[1:4] # mean absolute percentage error (MAPE)"
   ]
  },
  {
   "cell_type": "code",
   "execution_count": null,
   "metadata": {},
   "outputs": [],
   "source": [
    "data = pd.read_csv('../output/database_cooling_reduced_normalized_validation.csv')\n",
    "fig, ax = plt.subplots(1,3)\n",
    "data.plot.scatter(ax=ax[0], x='EER',y='EER_sim', alpha=0.3, figsize=(12,5), grid=True, title='Coefficient of performance')\n",
    "data.plot.scatter(ax=ax[1], x='P_el [W]',y='P_el_sim', alpha=0.1, figsize=(15,5), grid=True, title='Electrical input power [W]')\n",
    "data.plot.scatter(ax=ax[2], x='Pdc [W]',y='Pdc_sim', alpha=0.1, figsize=(15,5), grid=True, title='Thermal output power [W]')\n",
    "ax[0].set_xlim(0,10)\n",
    "ax[0].set_ylim(0,10)\n",
    "ax[1].set_xlim(0,6000)\n",
    "ax[1].set_ylim(0,6000)\n",
    "ax[2].set_xlim(0,15000)\n",
    "ax[2].set_ylim(0,15000)"
   ]
  },
  {
   "cell_type": "markdown",
   "metadata": {},
   "source": [
    "### **6.5 Brine/Water | regulated** <a class=\"anchor\" id=\"brine-water-regulated\" name=\"brine-water-regulated\"></a>\n",
    "\n",
    "* The mean absolute percentage error (MAPE) is over all heat pumps is\n",
    "    * 4.2 % for COP\n",
    "    * 17.7 % for P_el\n",
    "    * 19.7 % for P_th\n",
    "* **Important**: Validation data is only available at primary input temperature of 0 °C.  "
   ]
  },
  {
   "cell_type": "code",
   "execution_count": null,
   "metadata": {},
   "outputs": [],
   "source": [
    "# Plot relative error for all heat pumps of type brine/water | regulated\n",
    "Group = 2\n",
    "data = df.loc[(df['Group']==Group)]\n",
    "data = data[['T_amb [°C]','RE_COP', 'RE_P_el', 'RE_P_th']]\n",
    "ax = data.boxplot(by='T_amb [°C]', layout=(1,3), figsize=(10,5), showfliers=False)\n",
    "ax[0].set_ylim(-60,60)\n",
    "ax[0].set_ylabel('relative error in %')\n",
    "data.abs().mean()[1:4] # mean absolute percentage error (MAPE)"
   ]
  },
  {
   "cell_type": "code",
   "execution_count": null,
   "metadata": {},
   "outputs": [],
   "source": [
    "# Plot absolute values all heat pumps of type brine/water | regulated as scatter plot\n",
    "Group = 2\n",
    "fig, ax = plt.subplots(1,3)\n",
    "data = df.loc[(df['Group']==Group)]\n",
    "data.plot.scatter(ax=ax[0], x='COP',y='COP_sim', alpha=0.3, figsize=(12,5), grid=True, title='Coefficient of performance')\n",
    "data.plot.scatter(ax=ax[1], x='P_el [W]',y='P_el_sim', alpha=0.1, figsize=(15,5), grid=True, title='Electrical input power [W]')\n",
    "data.plot.scatter(ax=ax[2], x='P_th [W]',y='P_th_sim', alpha=0.1, figsize=(15,5), grid=True, title='Thermal output power [W]')\n",
    "ax[0].set_xlim(0,10)\n",
    "ax[0].set_ylim(0,10)\n",
    "ax[1].set_xlim(0,20000)\n",
    "ax[1].set_ylim(0,20000)\n",
    "ax[2].set_xlim(0,50000)\n",
    "ax[2].set_ylim(0,50000)"
   ]
  },
  {
   "cell_type": "markdown",
   "metadata": {},
   "source": [
    "## **7. Conclusion** <a class=\"anchor\" id=\"conclusion\" name=\"conclusion\"></a>\n",
    "\n",
    "- On/Off heat pumps can be simulated very well (mean relative error < 6 %)\n",
    "- Regulated heat pumps show a good values in terms of COP and EER but relative mean errors about 15-20 % for electrical and thermal power, because of the non-linearity regarding different primary / secondary temperatures.\n",
    "- Despite of that, generic heat pumps should work well, because the median shows only a small relative error"
   ]
  },
  {
   "cell_type": "markdown",
   "metadata": {},
   "source": [
    "## **8. Additional functions** <a class=\"anchor\" id=\"additional-functions\" name=\"additional-functions\"></a>\n",
    "\n",
    "The hplib has an additonal class with functions regarding the heating system. For example it is possible to calculate the brine temperatur or the calculate the temperature of the heating distribution system."
   ]
  },
  {
   "cell_type": "code",
   "execution_count": null,
   "metadata": {},
   "outputs": [],
   "source": [
    "# Initialize a heating system\n",
    "t_hs_set = [35,28]  # example for floor heating\n",
    "f_hs_exp = 1.1      # example for floor heating\n",
    "t_min = -11         # example minimum reference outside temperature for building\n",
    "\n",
    "HS = hpl.HeatingSystem(t_outside_min=-11,t_hs_set=t_hs_set,f_hs_exp=f_hs_exp)"
   ]
  },
  {
   "cell_type": "code",
   "execution_count": null,
   "metadata": {},
   "outputs": [],
   "source": [
    "# Calculate heating flow and return temperature\n",
    "t_avg_d = -3        # average temperatur of day\n",
    "\n",
    "t_dist = HS.calc_heating_dist_temp(t_avg_d=t_avg_d)\n",
    "print('Heating flow temperatur = '+str(round(t_dist[0],1)))\n",
    "print('Heating return temperatur = '+str(round(t_dist[1],1)))"
   ]
  },
  {
   "cell_type": "code",
   "execution_count": null,
   "metadata": {},
   "outputs": [],
   "source": [
    "# Calculate brine temperature as function of outside temperature\n",
    "# for heat pumps with earth probes\n",
    "t_avg_d = -3\n",
    "\n",
    "t_brine = HS.calc_brine_temp(t_avg_d = t_avg_d)\n",
    "print('Brine flow temperatur = '+str(round(t_brine,1)))\n"
   ]
  },
  {
   "cell_type": "code",
   "execution_count": null,
   "metadata": {},
   "outputs": [],
   "source": []
  }
 ],
 "metadata": {
  "kernelspec": {
   "display_name": "Python 3.9.12 ('hplib')",
   "language": "python",
   "name": "python3"
  },
  "language_info": {
   "codemirror_mode": {
    "name": "ipython",
    "version": 3
   },
   "file_extension": ".py",
   "mimetype": "text/x-python",
   "name": "python",
   "nbconvert_exporter": "python",
   "pygments_lexer": "ipython3",
   "version": "3.9.12"
  },
  "vscode": {
   "interpreter": {
    "hash": "7ad19b472971d95eb76707efb10c6ee38ef791b225cb2c660b5431184eb94ca2"
   }
  }
 },
 "nbformat": 4,
 "nbformat_minor": 2
}
